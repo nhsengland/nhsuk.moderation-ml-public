{
  "cells": [
    {
      "cell_type": "markdown",
      "metadata": {
        "nteract": {
          "transient": {
            "deleting": false
          }
        }
      },
      "source": [
        "# BERT plus BERT text classiffication safeguarding 3 categories"
      ]
    },
    {
      "cell_type": "markdown",
      "metadata": {
        "nteract": {
          "transient": {
            "deleting": false
          }
        }
      },
      "source": [
        "```\n",
        "This notebooks trains a model to identify 3 categories on written reviews:\n",
        "```\n",
        "- No safeguarding content (label=0)\n",
        "- Safeguarding content low risk (label=1)\n",
        "- Safeguarding content high risk (label=2)\n",
        "\n",
        "### Data\n",
        "The data used for training uses a mix of published NHS UK reviews as it is assumed that none include safeguarding content, NHS UK reviews and modified open source posts from social media that were marked by specialist moderators as high risk or low risk. It also includes augmented data from the previous and not real comments written to simulate the level of risk needed (high risk). See more details on the model card corresponding to this model\n",
        "\n",
        "### Encoding\n",
        "A BERT tokenizer was used to encode the data and includes the id, the token and the attention mask\n",
        "\n",
        "### Model\n",
        "A neural network architecture designed and trained for text classification using BERT was used to trained the model. \n",
        "\n",
        "\n",
        "> - Features for the model will come solely from the text of the review as a vector representation. Downloading a pre-train BERT model, use it to transform written sentences into numerical vectors. These vectors capture the essence of the sentences in a form that the model can understand. \n",
        "> \n",
        "\n",
        "> - Fine-tuning the Model. Use a BERT model that has been pre-trained for classification tasks. Then, finetune it for our task by training it further on our own set of labeled texts. These texts are divided into two types: those that relate to safeguarding issues and those that do not. This step helps the model learn from our specific examples and get better at distinguishing between the two types.\n",
        "> \n",
        "\n",
        "> - Register the model.\n",
        "> \n",
        "\n",
        "> - The deployment of the model will be done on a separate script."
      ]
    },
    {
      "cell_type": "markdown",
      "metadata": {},
      "source": [
        "# Import types\n",
        "Import all the Azure Machine Learning types that I'll need "
      ]
    },
    {
      "cell_type": "code",
      "execution_count": 1,
      "metadata": {
        "gather": {
          "logged": 1707487205354
        }
      },
      "outputs": [
        {
          "name": "stdout",
          "output_type": "stream",
          "text": [
            "Azure ML SDK Version:  1.51.0\n"
          ]
        }
      ],
      "source": [
        "# Standard library imports\n",
        "import os\n",
        "\n",
        "# Third-party imports\n",
        "import matplotlib.pyplot as plt\n",
        "import seaborn as sns\n",
        "from sklearn import metrics\n",
        "from sklearn.metrics import confusion_matrix\n",
        "\n",
        "# Azure ML imports\n",
        "import azureml.core\n",
        "from azureml.core import Experiment, Model, Dataset, Workspace\n",
        "\n",
        "# Configuring Seaborn\n",
        "sns.set()  \n",
        "\n"
      ]
    },
    {
      "cell_type": "markdown",
      "metadata": {},
      "source": [
        "# Configure workspace"
      ]
    },
    {
      "cell_type": "code",
      "execution_count": null,
      "metadata": {
        "gather": {
          "logged": 1707487209957
        }
      },
      "outputs": [],
      "source": [
        "#Create a workspace object from the existing Azure Machine Learning workspace\n",
        "workspace = Workspace.from_config()\n",
        "print(workspace.name, workspace.resource_group, workspace.location, workspace.subscription_id, sep='\\n')"
      ]
    },
    {
      "cell_type": "markdown",
      "metadata": {},
      "source": [
        "# Create the pipeline infrastructure"
      ]
    },
    {
      "cell_type": "code",
      "execution_count": 3,
      "metadata": {
        "gather": {
          "logged": 1707487214971
        }
      },
      "outputs": [],
      "source": [
        "# Standard library imports\n",
        "from tqdm import trange\n",
        "\n",
        "# Third-party imports\n",
        "import numpy as np\n",
        "import pandas as pd\n",
        "import torch\n",
        "from sklearn.model_selection import train_test_split\n",
        "from torch.utils.data import DataLoader, RandomSampler, SequentialSampler, TensorDataset\n",
        "from transformers import BertForSequenceClassification, BertTokenizer"
      ]
    },
    {
      "cell_type": "code",
      "execution_count": 4,
      "metadata": {
        "gather": {
          "logged": 1707487217623
        }
      },
      "outputs": [],
      "source": [
        "# create experiment and start logging to a new run in the experiment\n",
        "from azureml.core import Experiment\n",
        "\n",
        "name = 'safeguarding_bert_bert3' \n",
        "\n",
        "short_hand_name = \"safeguarding3\"\n",
        "\n",
        "experiment = Experiment(workspace = workspace, name = name)\n",
        "\n",
        "# Start logging data from the experiment\n",
        "run = experiment.start_logging(snapshot_directory=None)\n",
        "run.display_name = name"
      ]
    },
    {
      "cell_type": "markdown",
      "metadata": {},
      "source": [
        "# Import data"
      ]
    },
    {
      "cell_type": "code",
      "execution_count": 5,
      "metadata": {
        "gather": {
          "logged": 1707487226137
        },
        "scrolled": true
      },
      "outputs": [],
      "source": [
        "safeguarding = Dataset.get_by_name(workspace, name='safeguarding_for_training_v1')\n",
        "safeguarding = safeguarding.to_pandas_dataframe()\n",
        "safeguarding = safeguarding.sample(100)\n",
        "\n",
        "# We extract text and label values:\n",
        "text = safeguarding.text.values\n",
        "labels = safeguarding.label.values"
      ]
    },
    {
      "cell_type": "markdown",
      "metadata": {},
      "source": [
        "## Encode data\n",
        "### Download tokenizer from pretrained"
      ]
    },
    {
      "cell_type": "code",
      "execution_count": 7,
      "metadata": {
        "gather": {
          "logged": 1707487238244
        }
      },
      "outputs": [],
      "source": [
        "tokenizer = BertTokenizer.from_pretrained(\n",
        "    'bert-base-uncased',\n",
        "    do_lower_case = True\n",
        "    )\n",
        "# This is a deep neural network with 12 layers!"
      ]
    },
    {
      "cell_type": "markdown",
      "metadata": {
        "nteract": {
          "transient": {
            "deleting": false
          }
        }
      },
      "source": [
        "### Preprocess"
      ]
    },
    {
      "cell_type": "code",
      "execution_count": 8,
      "metadata": {
        "gather": {
          "logged": 1707487247743
        }
      },
      "outputs": [
        {
          "name": "stderr",
          "output_type": "stream",
          "text": [
            "Truncation was not explicitly activated but `max_length` is provided a specific value, please use `truncation=True` to explicitly truncate examples to max length. Defaulting to 'longest_first' truncation strategy. If you encode pairs of sequences (GLUE-style) with the tokenizer you can select this strategy more precisely by providing a specific strategy to `truncation`.\n",
            "/anaconda/envs/azureml_py38/lib/python3.8/site-packages/transformers/tokenization_utils_base.py:2251: FutureWarning: The `pad_to_max_length` argument is deprecated and will be removed in a future version, use `padding=True` or `padding='longest'` to pad to the longest sequence in the batch, or use `padding='max_length'` to pad to a max length. In this case, you can give a specific length with `max_length` (e.g. `max_length=45`) or leave max_length to None to pad to the maximal input size of the model (e.g. 512 for Bert).\n",
            "  warnings.warn(\n"
          ]
        }
      ],
      "source": [
        "token_id = []\n",
        "attention_masks = []\n",
        "\n",
        "def preprocessing(input_text, tokenizer):\n",
        "  ''' #this docstring is great\n",
        "  Tokenizes input text into format compatible with BERT models.\n",
        "  \n",
        "  Parameters: - input_text (str): Text to tokenize. - tokenizer\n",
        "  (transformers.BertTokenizer): Tokenizer instance to use.\n",
        "\n",
        "  Returns: transformers.tokenization_utils_base.BatchEncoding object containing:\n",
        "  - input_ids (torch.Tensor): Tensor of token ids to be fed to a model. -\n",
        "  attention_mask (torch.Tensor): Tensor of indices specifying which tokens\n",
        "  should be attended to by the model. - token_type_ids (torch.Tensor, optional):\n",
        "  Tensor of segment ids to differentiate multiple sequences. Not used for single\n",
        "  sequence tasks.\n",
        "  \n",
        "  The function ensures that the tokenized output is truncated or padded to a max\n",
        "  length of 512 tokens, includes special tokens (like [CLS], [SEP]), and returns\n",
        "  PyTorch tensors.\n",
        "  '''\n",
        "  return tokenizer.encode_plus( \n",
        "                        input_text,\n",
        "                        add_special_tokens = True,\n",
        "                        max_length = 512,\n",
        "                        pad_to_max_length = True,\n",
        "                        return_attention_mask = True,\n",
        "                        return_tensors = 'pt' # Return pytorch tensors.\n",
        "                   )\n",
        "                 \n",
        "for sample in text:\n",
        "    encoding_dict = preprocessing(sample, tokenizer)\n",
        "    token_id.append(encoding_dict['input_ids']) \n",
        "    attention_masks.append(encoding_dict['attention_mask'])\n",
        "\n",
        "# Convert the lists into tensors.\n",
        "token_id = torch.cat(token_id, dim = 0)\n",
        "attention_masks = torch.cat(attention_masks, dim = 0)\n",
        "labels = torch.tensor(labels) #The BERT PyTorch interface requires that the data be in torch tensors rather than Python lists"
      ]
    },
    {
      "cell_type": "markdown",
      "metadata": {},
      "source": [
        "# Data split"
      ]
    },
    {
      "cell_type": "code",
      "execution_count": 9,
      "metadata": {
        "gather": {
          "logged": 1707487256918
        }
      },
      "outputs": [],
      "source": [
        "\n",
        "val_ratio = 0.2\n",
        "# Recommended batch size: 16, 32. See: https://arxiv.org/pdf/1810.04805.pdf\n",
        "batch_size = 8 #Memory issues on the environment didn't allow for larger batch sizes\n",
        "\n",
        "# Indices of the train and validation splits stratified by labels\n",
        "train_idx, val_idx = train_test_split(\n",
        "    np.arange(len(labels)),\n",
        "    test_size = val_ratio,\n",
        "    shuffle = True,\n",
        "    stratify = labels)\n",
        "\n",
        "# Train and validation sets \n",
        "train_set = TensorDataset(token_id[train_idx], \n",
        "                          attention_masks[train_idx], \n",
        "                          labels[train_idx])\n",
        "\n",
        "val_set = TensorDataset(token_id[val_idx], \n",
        "                        attention_masks[val_idx], \n",
        "                        labels[val_idx])\n",
        "\n",
        "# Prepare DataLoader  \n",
        "train_dataloader = DataLoader(\n",
        "            train_set,\n",
        "            sampler = RandomSampler(train_set),\n",
        "            batch_size = batch_size\n",
        "        )\n",
        "\n",
        "validation_dataloader = DataLoader(\n",
        "            val_set,\n",
        "            sampler = SequentialSampler(val_set),\n",
        "            batch_size = batch_size\n",
        "        )"
      ]
    },
    {
      "cell_type": "markdown",
      "metadata": {},
      "source": [
        "# Train"
      ]
    },
    {
      "cell_type": "markdown",
      "metadata": {},
      "source": [
        "Selected hyperparameters based on the recommendations from the BERT paper (BERT: Pre-training of Deep Bidirectional Transformers for Language Understanding by Jacob Devlin) [https://arxiv.org/pdf/1810.04805.pdf]:\n",
        "The optimal hyperparameter values are task-specific, but we found the following range of possible values to work well across all tasks:\n",
        "\n",
        "- Batch size: 16, 32\n",
        "\n",
        "- Learning rate (Adam): 5e-5, 3e-5, 2e-5\n",
        "\n",
        "- Number of epochs: 2, 3, 4\n",
        "\n",
        "Define some functions to assess validation metrics (accuracy, precision, recall and specificity) during the training process:"
      ]
    },
    {
      "cell_type": "code",
      "execution_count": null,
      "metadata": {
        "jupyter": {
          "outputs_hidden": false,
          "source_hidden": false
        },
        "nteract": {
          "transient": {
            "deleting": false
          }
        }
      },
      "outputs": [],
      "source": [
        "def b_tp(preds, labels):\n",
        "    \"\"\"\n",
        "    Calculates the count of correct predictions for True Positives (TP) and True Negatives (TN).\n",
        "\n",
        "    Args:\n",
        "        preds (list or array): Predicted labels.\n",
        "        labels (list or array): Actual ground truth labels.\n",
        "\n",
        "    Returns:\n",
        "        int: The number of correct predictions where predicted labels match the actual labels.\n",
        "    \"\"\"\n",
        "    return sum(preds == labels for preds, labels in zip(preds, labels))\n"
      ]
    },
    {
      "cell_type": "code",
      "execution_count": null,
      "metadata": {
        "jupyter": {
          "outputs_hidden": false,
          "source_hidden": false
        },
        "nteract": {
          "transient": {
            "deleting": false
          }
        }
      },
      "outputs": [],
      "source": [
        "def b_tn(preds, labels):\n",
        "    \"\"\"\n",
        "    Returns True Negatives (TN): count of correct predictions of actual class 0.\n",
        "\n",
        "    Args:\n",
        "        preds (list or array): Predicted labels.\n",
        "        labels (list or array): Actual ground truth labels.\n",
        "\n",
        "    Returns:\n",
        "        int: The number of correct predictions where the predicted and actual labels are both 0.\n",
        "    \"\"\"\n",
        "    return sum(1 for pred, label in zip(preds, labels) if pred == label == 0)\n"
      ]
    },
    {
      "cell_type": "code",
      "execution_count": null,
      "metadata": {
        "jupyter": {
          "outputs_hidden": false,
          "source_hidden": false
        },
        "nteract": {
          "transient": {
            "deleting": false
          }
        }
      },
      "outputs": [],
      "source": [
        "def b_metrics(preds, labels):\n",
        "    \"\"\"\n",
        "    Calculates and returns the accuracy of predictions.\n",
        "\n",
        "    Args:\n",
        "        preds (numpy array): Predicted probability or logits for each class from the model, where the last axis indexes the class.\n",
        "        labels (numpy array): Actual ground truth labels.\n",
        "\n",
        "    Returns:\n",
        "        float: The accuracy of the predictions calculated as (TP + TN) / N, where N is the total number of samples.\n",
        "    \"\"\"\n",
        "    preds = np.argmax(preds, axis=1).flatten()  # Convert probabilities or logits to class predictions\n",
        "    labels = labels.flatten()                   # Flatten labels if not already 1D\n",
        "    tp = b_tp(preds, labels)                    # Calculate True Positives \n",
        "    tn = b_tn(preds, labels)                    # Calculate True Negatives\n",
        "    b_accuracy = (tp + tn) / len(labels)        # Compute accuracy\n",
        "    return b_accuracy\n"
      ]
    },
    {
      "cell_type": "markdown",
      "metadata": {},
      "source": [
        "Download transformers.BertForSequenceClassification, which is a BERT model with a linear layer for sentence classification (or regression) on top of the pooled output:"
      ]
    },
    {
      "cell_type": "code",
      "execution_count": 25,
      "metadata": {
        "gather": {
          "logged": 1707484150407
        },
        "jupyter": {
          "outputs_hidden": true
        }
      },
      "outputs": [
        {
          "data": {
            "application/vnd.jupyter.widget-view+json": {
              "model_id": "81da0459c708466a8d9f0196f2566efa",
              "version_major": 2,
              "version_minor": 0
            },
            "text/plain": [
              "Downloading:   0%|          | 0.00/420M [00:00<?, ?B/s]"
            ]
          },
          "metadata": {},
          "output_type": "display_data"
        },
        {
          "name": "stderr",
          "output_type": "stream",
          "text": [
            "Some weights of the model checkpoint at bert-base-uncased were not used when initializing BertForSequenceClassification: ['cls.predictions.decoder.weight', 'cls.seq_relationship.weight', 'cls.seq_relationship.bias', 'cls.predictions.transform.LayerNorm.bias', 'cls.predictions.transform.dense.bias', 'cls.predictions.transform.LayerNorm.weight', 'cls.predictions.transform.dense.weight', 'cls.predictions.bias']\n",
            "- This IS expected if you are initializing BertForSequenceClassification from the checkpoint of a model trained on another task or with another architecture (e.g. initializing a BertForSequenceClassification model from a BertForPreTraining model).\n",
            "- This IS NOT expected if you are initializing BertForSequenceClassification from the checkpoint of a model that you expect to be exactly identical (initializing a BertForSequenceClassification model from a BertForSequenceClassification model).\n",
            "Some weights of BertForSequenceClassification were not initialized from the model checkpoint at bert-base-uncased and are newly initialized: ['classifier.weight', 'classifier.bias']\n",
            "You should probably TRAIN this model on a down-stream task to be able to use it for predictions and inference.\n"
          ]
        },
        {
          "data": {
            "text/plain": [
              "BertForSequenceClassification(\n",
              "  (bert): BertModel(\n",
              "    (embeddings): BertEmbeddings(\n",
              "      (word_embeddings): Embedding(30522, 768, padding_idx=0)\n",
              "      (position_embeddings): Embedding(512, 768)\n",
              "      (token_type_embeddings): Embedding(2, 768)\n",
              "      (LayerNorm): LayerNorm((768,), eps=1e-12, elementwise_affine=True)\n",
              "      (dropout): Dropout(p=0.1, inplace=False)\n",
              "    )\n",
              "    (encoder): BertEncoder(\n",
              "      (layer): ModuleList(\n",
              "        (0): BertLayer(\n",
              "          (attention): BertAttention(\n",
              "            (self): BertSelfAttention(\n",
              "              (query): Linear(in_features=768, out_features=768, bias=True)\n",
              "              (key): Linear(in_features=768, out_features=768, bias=True)\n",
              "              (value): Linear(in_features=768, out_features=768, bias=True)\n",
              "              (dropout): Dropout(p=0.1, inplace=False)\n",
              "            )\n",
              "            (output): BertSelfOutput(\n",
              "              (dense): Linear(in_features=768, out_features=768, bias=True)\n",
              "              (LayerNorm): LayerNorm((768,), eps=1e-12, elementwise_affine=True)\n",
              "              (dropout): Dropout(p=0.1, inplace=False)\n",
              "            )\n",
              "          )\n",
              "          (intermediate): BertIntermediate(\n",
              "            (dense): Linear(in_features=768, out_features=3072, bias=True)\n",
              "          )\n",
              "          (output): BertOutput(\n",
              "            (dense): Linear(in_features=3072, out_features=768, bias=True)\n",
              "            (LayerNorm): LayerNorm((768,), eps=1e-12, elementwise_affine=True)\n",
              "            (dropout): Dropout(p=0.1, inplace=False)\n",
              "          )\n",
              "        )\n",
              "        (1): BertLayer(\n",
              "          (attention): BertAttention(\n",
              "            (self): BertSelfAttention(\n",
              "              (query): Linear(in_features=768, out_features=768, bias=True)\n",
              "              (key): Linear(in_features=768, out_features=768, bias=True)\n",
              "              (value): Linear(in_features=768, out_features=768, bias=True)\n",
              "              (dropout): Dropout(p=0.1, inplace=False)\n",
              "            )\n",
              "            (output): BertSelfOutput(\n",
              "              (dense): Linear(in_features=768, out_features=768, bias=True)\n",
              "              (LayerNorm): LayerNorm((768,), eps=1e-12, elementwise_affine=True)\n",
              "              (dropout): Dropout(p=0.1, inplace=False)\n",
              "            )\n",
              "          )\n",
              "          (intermediate): BertIntermediate(\n",
              "            (dense): Linear(in_features=768, out_features=3072, bias=True)\n",
              "          )\n",
              "          (output): BertOutput(\n",
              "            (dense): Linear(in_features=3072, out_features=768, bias=True)\n",
              "            (LayerNorm): LayerNorm((768,), eps=1e-12, elementwise_affine=True)\n",
              "            (dropout): Dropout(p=0.1, inplace=False)\n",
              "          )\n",
              "        )\n",
              "        (2): BertLayer(\n",
              "          (attention): BertAttention(\n",
              "            (self): BertSelfAttention(\n",
              "              (query): Linear(in_features=768, out_features=768, bias=True)\n",
              "              (key): Linear(in_features=768, out_features=768, bias=True)\n",
              "              (value): Linear(in_features=768, out_features=768, bias=True)\n",
              "              (dropout): Dropout(p=0.1, inplace=False)\n",
              "            )\n",
              "            (output): BertSelfOutput(\n",
              "              (dense): Linear(in_features=768, out_features=768, bias=True)\n",
              "              (LayerNorm): LayerNorm((768,), eps=1e-12, elementwise_affine=True)\n",
              "              (dropout): Dropout(p=0.1, inplace=False)\n",
              "            )\n",
              "          )\n",
              "          (intermediate): BertIntermediate(\n",
              "            (dense): Linear(in_features=768, out_features=3072, bias=True)\n",
              "          )\n",
              "          (output): BertOutput(\n",
              "            (dense): Linear(in_features=3072, out_features=768, bias=True)\n",
              "            (LayerNorm): LayerNorm((768,), eps=1e-12, elementwise_affine=True)\n",
              "            (dropout): Dropout(p=0.1, inplace=False)\n",
              "          )\n",
              "        )\n",
              "        (3): BertLayer(\n",
              "          (attention): BertAttention(\n",
              "            (self): BertSelfAttention(\n",
              "              (query): Linear(in_features=768, out_features=768, bias=True)\n",
              "              (key): Linear(in_features=768, out_features=768, bias=True)\n",
              "              (value): Linear(in_features=768, out_features=768, bias=True)\n",
              "              (dropout): Dropout(p=0.1, inplace=False)\n",
              "            )\n",
              "            (output): BertSelfOutput(\n",
              "              (dense): Linear(in_features=768, out_features=768, bias=True)\n",
              "              (LayerNorm): LayerNorm((768,), eps=1e-12, elementwise_affine=True)\n",
              "              (dropout): Dropout(p=0.1, inplace=False)\n",
              "            )\n",
              "          )\n",
              "          (intermediate): BertIntermediate(\n",
              "            (dense): Linear(in_features=768, out_features=3072, bias=True)\n",
              "          )\n",
              "          (output): BertOutput(\n",
              "            (dense): Linear(in_features=3072, out_features=768, bias=True)\n",
              "            (LayerNorm): LayerNorm((768,), eps=1e-12, elementwise_affine=True)\n",
              "            (dropout): Dropout(p=0.1, inplace=False)\n",
              "          )\n",
              "        )\n",
              "        (4): BertLayer(\n",
              "          (attention): BertAttention(\n",
              "            (self): BertSelfAttention(\n",
              "              (query): Linear(in_features=768, out_features=768, bias=True)\n",
              "              (key): Linear(in_features=768, out_features=768, bias=True)\n",
              "              (value): Linear(in_features=768, out_features=768, bias=True)\n",
              "              (dropout): Dropout(p=0.1, inplace=False)\n",
              "            )\n",
              "            (output): BertSelfOutput(\n",
              "              (dense): Linear(in_features=768, out_features=768, bias=True)\n",
              "              (LayerNorm): LayerNorm((768,), eps=1e-12, elementwise_affine=True)\n",
              "              (dropout): Dropout(p=0.1, inplace=False)\n",
              "            )\n",
              "          )\n",
              "          (intermediate): BertIntermediate(\n",
              "            (dense): Linear(in_features=768, out_features=3072, bias=True)\n",
              "          )\n",
              "          (output): BertOutput(\n",
              "            (dense): Linear(in_features=3072, out_features=768, bias=True)\n",
              "            (LayerNorm): LayerNorm((768,), eps=1e-12, elementwise_affine=True)\n",
              "            (dropout): Dropout(p=0.1, inplace=False)\n",
              "          )\n",
              "        )\n",
              "        (5): BertLayer(\n",
              "          (attention): BertAttention(\n",
              "            (self): BertSelfAttention(\n",
              "              (query): Linear(in_features=768, out_features=768, bias=True)\n",
              "              (key): Linear(in_features=768, out_features=768, bias=True)\n",
              "              (value): Linear(in_features=768, out_features=768, bias=True)\n",
              "              (dropout): Dropout(p=0.1, inplace=False)\n",
              "            )\n",
              "            (output): BertSelfOutput(\n",
              "              (dense): Linear(in_features=768, out_features=768, bias=True)\n",
              "              (LayerNorm): LayerNorm((768,), eps=1e-12, elementwise_affine=True)\n",
              "              (dropout): Dropout(p=0.1, inplace=False)\n",
              "            )\n",
              "          )\n",
              "          (intermediate): BertIntermediate(\n",
              "            (dense): Linear(in_features=768, out_features=3072, bias=True)\n",
              "          )\n",
              "          (output): BertOutput(\n",
              "            (dense): Linear(in_features=3072, out_features=768, bias=True)\n",
              "            (LayerNorm): LayerNorm((768,), eps=1e-12, elementwise_affine=True)\n",
              "            (dropout): Dropout(p=0.1, inplace=False)\n",
              "          )\n",
              "        )\n",
              "        (6): BertLayer(\n",
              "          (attention): BertAttention(\n",
              "            (self): BertSelfAttention(\n",
              "              (query): Linear(in_features=768, out_features=768, bias=True)\n",
              "              (key): Linear(in_features=768, out_features=768, bias=True)\n",
              "              (value): Linear(in_features=768, out_features=768, bias=True)\n",
              "              (dropout): Dropout(p=0.1, inplace=False)\n",
              "            )\n",
              "            (output): BertSelfOutput(\n",
              "              (dense): Linear(in_features=768, out_features=768, bias=True)\n",
              "              (LayerNorm): LayerNorm((768,), eps=1e-12, elementwise_affine=True)\n",
              "              (dropout): Dropout(p=0.1, inplace=False)\n",
              "            )\n",
              "          )\n",
              "          (intermediate): BertIntermediate(\n",
              "            (dense): Linear(in_features=768, out_features=3072, bias=True)\n",
              "          )\n",
              "          (output): BertOutput(\n",
              "            (dense): Linear(in_features=3072, out_features=768, bias=True)\n",
              "            (LayerNorm): LayerNorm((768,), eps=1e-12, elementwise_affine=True)\n",
              "            (dropout): Dropout(p=0.1, inplace=False)\n",
              "          )\n",
              "        )\n",
              "        (7): BertLayer(\n",
              "          (attention): BertAttention(\n",
              "            (self): BertSelfAttention(\n",
              "              (query): Linear(in_features=768, out_features=768, bias=True)\n",
              "              (key): Linear(in_features=768, out_features=768, bias=True)\n",
              "              (value): Linear(in_features=768, out_features=768, bias=True)\n",
              "              (dropout): Dropout(p=0.1, inplace=False)\n",
              "            )\n",
              "            (output): BertSelfOutput(\n",
              "              (dense): Linear(in_features=768, out_features=768, bias=True)\n",
              "              (LayerNorm): LayerNorm((768,), eps=1e-12, elementwise_affine=True)\n",
              "              (dropout): Dropout(p=0.1, inplace=False)\n",
              "            )\n",
              "          )\n",
              "          (intermediate): BertIntermediate(\n",
              "            (dense): Linear(in_features=768, out_features=3072, bias=True)\n",
              "          )\n",
              "          (output): BertOutput(\n",
              "            (dense): Linear(in_features=3072, out_features=768, bias=True)\n",
              "            (LayerNorm): LayerNorm((768,), eps=1e-12, elementwise_affine=True)\n",
              "            (dropout): Dropout(p=0.1, inplace=False)\n",
              "          )\n",
              "        )\n",
              "        (8): BertLayer(\n",
              "          (attention): BertAttention(\n",
              "            (self): BertSelfAttention(\n",
              "              (query): Linear(in_features=768, out_features=768, bias=True)\n",
              "              (key): Linear(in_features=768, out_features=768, bias=True)\n",
              "              (value): Linear(in_features=768, out_features=768, bias=True)\n",
              "              (dropout): Dropout(p=0.1, inplace=False)\n",
              "            )\n",
              "            (output): BertSelfOutput(\n",
              "              (dense): Linear(in_features=768, out_features=768, bias=True)\n",
              "              (LayerNorm): LayerNorm((768,), eps=1e-12, elementwise_affine=True)\n",
              "              (dropout): Dropout(p=0.1, inplace=False)\n",
              "            )\n",
              "          )\n",
              "          (intermediate): BertIntermediate(\n",
              "            (dense): Linear(in_features=768, out_features=3072, bias=True)\n",
              "          )\n",
              "          (output): BertOutput(\n",
              "            (dense): Linear(in_features=3072, out_features=768, bias=True)\n",
              "            (LayerNorm): LayerNorm((768,), eps=1e-12, elementwise_affine=True)\n",
              "            (dropout): Dropout(p=0.1, inplace=False)\n",
              "          )\n",
              "        )\n",
              "        (9): BertLayer(\n",
              "          (attention): BertAttention(\n",
              "            (self): BertSelfAttention(\n",
              "              (query): Linear(in_features=768, out_features=768, bias=True)\n",
              "              (key): Linear(in_features=768, out_features=768, bias=True)\n",
              "              (value): Linear(in_features=768, out_features=768, bias=True)\n",
              "              (dropout): Dropout(p=0.1, inplace=False)\n",
              "            )\n",
              "            (output): BertSelfOutput(\n",
              "              (dense): Linear(in_features=768, out_features=768, bias=True)\n",
              "              (LayerNorm): LayerNorm((768,), eps=1e-12, elementwise_affine=True)\n",
              "              (dropout): Dropout(p=0.1, inplace=False)\n",
              "            )\n",
              "          )\n",
              "          (intermediate): BertIntermediate(\n",
              "            (dense): Linear(in_features=768, out_features=3072, bias=True)\n",
              "          )\n",
              "          (output): BertOutput(\n",
              "            (dense): Linear(in_features=3072, out_features=768, bias=True)\n",
              "            (LayerNorm): LayerNorm((768,), eps=1e-12, elementwise_affine=True)\n",
              "            (dropout): Dropout(p=0.1, inplace=False)\n",
              "          )\n",
              "        )\n",
              "        (10): BertLayer(\n",
              "          (attention): BertAttention(\n",
              "            (self): BertSelfAttention(\n",
              "              (query): Linear(in_features=768, out_features=768, bias=True)\n",
              "              (key): Linear(in_features=768, out_features=768, bias=True)\n",
              "              (value): Linear(in_features=768, out_features=768, bias=True)\n",
              "              (dropout): Dropout(p=0.1, inplace=False)\n",
              "            )\n",
              "            (output): BertSelfOutput(\n",
              "              (dense): Linear(in_features=768, out_features=768, bias=True)\n",
              "              (LayerNorm): LayerNorm((768,), eps=1e-12, elementwise_affine=True)\n",
              "              (dropout): Dropout(p=0.1, inplace=False)\n",
              "            )\n",
              "          )\n",
              "          (intermediate): BertIntermediate(\n",
              "            (dense): Linear(in_features=768, out_features=3072, bias=True)\n",
              "          )\n",
              "          (output): BertOutput(\n",
              "            (dense): Linear(in_features=3072, out_features=768, bias=True)\n",
              "            (LayerNorm): LayerNorm((768,), eps=1e-12, elementwise_affine=True)\n",
              "            (dropout): Dropout(p=0.1, inplace=False)\n",
              "          )\n",
              "        )\n",
              "        (11): BertLayer(\n",
              "          (attention): BertAttention(\n",
              "            (self): BertSelfAttention(\n",
              "              (query): Linear(in_features=768, out_features=768, bias=True)\n",
              "              (key): Linear(in_features=768, out_features=768, bias=True)\n",
              "              (value): Linear(in_features=768, out_features=768, bias=True)\n",
              "              (dropout): Dropout(p=0.1, inplace=False)\n",
              "            )\n",
              "            (output): BertSelfOutput(\n",
              "              (dense): Linear(in_features=768, out_features=768, bias=True)\n",
              "              (LayerNorm): LayerNorm((768,), eps=1e-12, elementwise_affine=True)\n",
              "              (dropout): Dropout(p=0.1, inplace=False)\n",
              "            )\n",
              "          )\n",
              "          (intermediate): BertIntermediate(\n",
              "            (dense): Linear(in_features=768, out_features=3072, bias=True)\n",
              "          )\n",
              "          (output): BertOutput(\n",
              "            (dense): Linear(in_features=3072, out_features=768, bias=True)\n",
              "            (LayerNorm): LayerNorm((768,), eps=1e-12, elementwise_affine=True)\n",
              "            (dropout): Dropout(p=0.1, inplace=False)\n",
              "          )\n",
              "        )\n",
              "      )\n",
              "    )\n",
              "    (pooler): BertPooler(\n",
              "      (dense): Linear(in_features=768, out_features=768, bias=True)\n",
              "      (activation): Tanh()\n",
              "    )\n",
              "  )\n",
              "  (dropout): Dropout(p=0.1, inplace=False)\n",
              "  (classifier): Linear(in_features=768, out_features=3, bias=True)\n",
              ")"
            ]
          },
          "execution_count": 25,
          "metadata": {},
          "output_type": "execute_result"
        }
      ],
      "source": [
        "# Load the BertForSequenceClassification model\n",
        "bert_model = BertForSequenceClassification.from_pretrained(\n",
        "    'bert-base-uncased',\n",
        "    num_labels = 3,\n",
        "    output_attentions = False,\n",
        "    output_hidden_states = False,\n",
        ")\n",
        "\n",
        "# Recommended learning rates (Adam): 5e-5, 3e-5, 2e-5. See: https://arxiv.org/pdf/1810.04805.pdf\n",
        "optimizer = torch.optim.AdamW(bert_model.parameters(), \n",
        "                              lr = 3e-5, \n",
        "                              eps = 1e-08 \n",
        "                              )\n",
        "\n",
        "# Run on GPU\n",
        "bert_model.cuda()"
      ]
    },
    {
      "cell_type": "code",
      "execution_count": null,
      "metadata": {
        "gather": {
          "logged": 1707484171213
        },
        "scrolled": true
      },
      "outputs": [],
      "source": [
        "device = torch.device('cuda' if torch.cuda.is_available() else 'cpu')\n",
        "\n",
        "# Recommended number of epochs: 2, 3, 4. See: https://arxiv.org/pdf/1810.04805.pdf\n",
        "epochs = 3\n",
        "\n",
        "for _ in trange(epochs, desc = 'Epoch'):\n",
        "    \n",
        "    # ========== Training ==========\n",
        "    \n",
        "    # Set model to training mode\n",
        "    bert_model.train()\n",
        "    \n",
        "    # Tracking variables\n",
        "    tr_loss = 0\n",
        "    nb_tr_examples, nb_tr_steps = 0, 0\n",
        "\n",
        "    for step, batch in enumerate(train_dataloader):\n",
        "        batch = tuple(t.to(device) for t in batch)\n",
        "        b_input_ids, b_input_mask, b_labels = batch\n",
        "        optimizer.zero_grad()\n",
        "\n",
        "        # Forward pass\n",
        "        train_output = bert_model(b_input_ids, \n",
        "                             token_type_ids = None, \n",
        "                             attention_mask = b_input_mask, \n",
        "                             labels = b_labels)\n",
        "        # Backward pass\n",
        "        train_output.loss.backward()\n",
        "        optimizer.step()\n",
        "\n",
        "        # Update tracking variables\n",
        "        tr_loss += train_output.loss.item()\n",
        "        nb_tr_examples += b_input_ids.size(0)\n",
        "        nb_tr_steps += 1\n",
        "\n",
        "    # ========== Validation ==========\n",
        "\n",
        "    # Set model to evaluation mode\n",
        "    bert_model.eval()\n",
        "\n",
        "    # Tracking variables \n",
        "    val_accuracy = []\n",
        "\n",
        "\n",
        "    for batch in validation_dataloader:\n",
        "        batch = tuple(t.to(device) for t in batch)\n",
        "        b_input_ids, b_input_mask, b_labels = batch\n",
        "\n",
        "        with torch.no_grad():\n",
        "          # Forward pass\n",
        "          eval_output = bert_model(b_input_ids, \n",
        "                              token_type_ids = None, \n",
        "                              attention_mask = b_input_mask)\n",
        "          \n",
        "        logits = eval_output.logits.detach().cpu().numpy()\n",
        "        label_ids = b_labels.to('cpu').numpy()\n",
        "\n",
        "        # Calculate validation metrics\n",
        "        b_accuracy = b_metrics(logits, label_ids)\n",
        "        val_accuracy.append(b_accuracy)\n",
        "\n"
      ]
    },
    {
      "cell_type": "code",
      "execution_count": null,
      "metadata": {
        "gather": {
          "logged": 1707484195700
        },
        "jupyter": {
          "outputs_hidden": false,
          "source_hidden": false
        },
        "nteract": {
          "transient": {
            "deleting": false
          }
        }
      },
      "outputs": [],
      "source": [
        "print('\\n\\t - Train loss: {:.4f}'.format(tr_loss / nb_tr_steps)) \n",
        "print('\\t - Validation Accuracy: {:.4f}'.format(sum(val_accuracy)/len(val_accuracy))) \n",
        "\n",
        "run.log('Accuracy', float(sum(val_accuracy)/len(val_accuracy)) ) \n",
        "run.log('Train_Loss', float(tr_loss / nb_tr_steps)) "
      ]
    },
    {
      "cell_type": "markdown",
      "metadata": {
        "nteract": {
          "transient": {
            "deleting": false
          }
        }
      },
      "source": [
        "# Save the freshly trained model"
      ]
    },
    {
      "cell_type": "code",
      "execution_count": 53,
      "metadata": {
        "gather": {
          "logged": 1669130696547
        }
      },
      "outputs": [],
      "source": [
        "#save model for later inference\n",
        "torch.save(bert_model.state_dict(), './safeguardingxb.pkl')"
      ]
    },
    {
      "cell_type": "markdown",
      "metadata": {
        "nteract": {
          "transient": {
            "deleting": false
          }
        }
      },
      "source": [
        "# See it working (optional)"
      ]
    },
    {
      "cell_type": "code",
      "execution_count": 52,
      "metadata": {
        "gather": {
          "logged": 1707486913206
        },
        "jupyter": {
          "outputs_hidden": false,
          "source_hidden": false
        },
        "nteract": {
          "transient": {
            "deleting": false
          }
        }
      },
      "outputs": [
        {
          "name": "stderr",
          "output_type": "stream",
          "text": [
            "Some weights of the model checkpoint at bert-base-uncased were not used when initializing BertForSequenceClassification: ['cls.predictions.decoder.weight', 'cls.seq_relationship.weight', 'cls.seq_relationship.bias', 'cls.predictions.transform.LayerNorm.bias', 'cls.predictions.transform.dense.bias', 'cls.predictions.transform.LayerNorm.weight', 'cls.predictions.transform.dense.weight', 'cls.predictions.bias']\n",
            "- This IS expected if you are initializing BertForSequenceClassification from the checkpoint of a model trained on another task or with another architecture (e.g. initializing a BertForSequenceClassification model from a BertForPreTraining model).\n",
            "- This IS NOT expected if you are initializing BertForSequenceClassification from the checkpoint of a model that you expect to be exactly identical (initializing a BertForSequenceClassification model from a BertForSequenceClassification model).\n",
            "Some weights of BertForSequenceClassification were not initialized from the model checkpoint at bert-base-uncased and are newly initialized: ['classifier.weight', 'classifier.bias']\n",
            "You should probably TRAIN this model on a down-stream task to be able to use it for predictions and inference.\n"
          ]
        },
        {
          "name": "stdout",
          "output_type": "stream",
          "text": [
            "Prediction: No safeguarding, Probability: 0.9988974332809448\n"
          ]
        }
      ],
      "source": [
        "import torch\n",
        "import numpy as np\n",
        "from transformers import BertTokenizer, BertForSequenceClassification\n",
        "import torch.nn.functional as F\n",
        "\n",
        "device = torch.device('cuda' if torch.cuda.is_available() else 'cpu')  # Corrected device assignment\n",
        "\n",
        "bert_model = BertForSequenceClassification.from_pretrained(\n",
        "    'bert-base-uncased',\n",
        "    num_labels=3,\n",
        "    output_attentions=False,\n",
        "    output_hidden_states=False,\n",
        ")\n",
        "\n",
        "bert_model.load_state_dict(torch.load('./safeguardinglvexp8b.pkl', map_location=device))  # Load model to the specified device\n",
        "bert_model = bert_model.to(device)  # Ensure model is on the correct device\n",
        "bert_model.eval()  # Set model to evaluation mode\n",
        "\n",
        "tokenizer = BertTokenizer.from_pretrained(\n",
        "    'bert-base-uncased',\n",
        "    do_lower_case=True\n",
        ")\n",
        "\n",
        "def preprocessing(input_text, tokenizer): \n",
        "    return tokenizer.encode_plus(\n",
        "        input_text,\n",
        "        add_special_tokens=True,\n",
        "        max_length=512,\n",
        "        padding='max_length',  # Updated for newer transformers versions\n",
        "        truncation=True,\n",
        "        return_attention_mask=True,\n",
        "        return_tensors='pt',\n",
        "    )\n",
        "\n",
        "def safeguarding_prediction(text_to_classify):\n",
        "    encoding = preprocessing(text_to_classify, tokenizer)\n",
        "\n",
        "    test_ids = encoding['input_ids'].to(device)  # Move to the correct device\n",
        "    test_attention_mask = encoding['attention_mask'].to(device)  # Move to the correct device\n",
        "\n",
        "    with torch.no_grad():  # Forward pass\n",
        "        output = bert_model(test_ids, token_type_ids=None, attention_mask=test_attention_mask)\n",
        "\n",
        "    logits = output.logits\n",
        "    probs = F.softmax(logits, dim=1).cpu().numpy()  # Apply softmax to calculate probabilities\n",
        "    prediction_idx = np.argmax(probs, axis=1).item()  # Get the index of the max log-probability\n",
        "    probs_max = np.max(probs)  # Max probability\n",
        "\n",
        "    # Map prediction index to class\n",
        "    prediction = ['No safeguarding', 'Possibly Concerning', 'Strongly Concerning'][prediction_idx]\n",
        "\n",
        "    return prediction, probs_max\n",
        "\n",
        "# Example usage\n",
        "text_to_classify = \"Example text here\"\n",
        "prediction, probability = safeguarding_prediction(text_to_classify)\n",
        "print(f'Prediction: {prediction}, Probability: {probability}')\n"
      ]
    },
    {
      "cell_type": "code",
      "execution_count": 40,
      "metadata": {
        "gather": {
          "logged": 1707485486328
        }
      },
      "outputs": [
        {
          "data": {
            "text/plain": [
              "('Strongly Concerning', 0.9986461)"
            ]
          },
          "execution_count": 40,
          "metadata": {},
          "output_type": "execute_result"
        }
      ],
      "source": [
        "# Run on GPU\n",
        "\n",
        "safeguarding_prediction('I will kill myself and everyone else.I will take an overdose')  \n"
      ]
    },
    {
      "cell_type": "code",
      "execution_count": 49,
      "metadata": {
        "gather": {
          "logged": 1707486521550
        },
        "jupyter": {
          "outputs_hidden": false,
          "source_hidden": false
        },
        "nteract": {
          "transient": {
            "deleting": false
          }
        }
      },
      "outputs": [
        {
          "data": {
            "text/plain": [
              "('Possibly Concerning', 0.95175004)"
            ]
          },
          "execution_count": 49,
          "metadata": {},
          "output_type": "execute_result"
        }
      ],
      "source": [
        "safeguarding_prediction(\"\"\"Rain lashed against the windows, mirroring the turmoil in my own eyes and with suicidal thoughts. My world had devolved into blurry pixels ever since my trusty spectacles decided to take a permanent vacation. So, with a deep breath and a dose of trepidation, I entered \"Specs & Specs,\" the town's sole optician.\n",
        "\n",
        "The first sign of trouble was the overpowering scent of mothballs and desperation. The second was the woman behind the counter, Ms. Grimshaw, whose smile could curdle milk. She looked me up and down, her gaze lingering on my mismatched frames with undisguised disdain. \"New glasses, I presume?\" she rasped, her voice like sandpaper on bone.\n",
        "\n",
        "My vision test turned into an exercise in frustration. Ms. Grimshaw's instructions were cryptic, her patience thinner than the lenses she offered. \"Left…right…better…worse,\" she'd mutter, her eyes glued to a dog-eared chart. Each \"wrong\" answer resulted in a sigh that could extinguish a candle.\n",
        "\n",
        "Finally, we settled on a pair of frames. The new glasses magnified everything, turning the world into a distorted funhouse mirror. Ms. Grimshaw, however, beamed. \"Perfect fit, wouldn't you say?\" she chirped, oblivious to my grimace.\n",
        "\n",
        "The price tag added another layer to my misery. It was significantly higher than advertised, and Ms. Grimshaw dismissed my questions with a haughty wave of her hand. \"Extra adjustments,\" she declared, her voice brooking no argument.\n",
        "\n",
        "Defeated and blurry-eyed, I left Specs & Specs, clutching my overpriced, uncomfortable new glasses. Tthe experience left a bitter taste in my mouth with suicidal thoughts. Perhaps, I thought, perfect vision wasn't worth the cost of my dignity. In the future, I vowed to travel miles, brave blizzards, even wear a monocle in public, before setting foot in that shop again. The blurry world outside, it seemed, was preferable to the distorted reality offered by Ms. Grimshaw and her \"optical wonderland.\".\" \"\"\")"
      ]
    },
    {
      "cell_type": "markdown",
      "metadata": {},
      "source": [
        "# Validate"
      ]
    },
    {
      "cell_type": "markdown",
      "metadata": {
        "nteract": {
          "transient": {
            "deleting": false
          }
        }
      },
      "source": [
        "### The validation dataset (a.k.a. holdout) has been registered and includes real data and copy cat data"
      ]
    },
    {
      "cell_type": "code",
      "execution_count": 31,
      "metadata": {
        "gather": {
          "logged": 1707484315704
        },
        "scrolled": true
      },
      "outputs": [],
      "source": [
        "# Load the validation dataset\n",
        "Suicide_test = Dataset.get_by_name(workspace, name='safeguarding_for_validation_v1')\n",
        "Suicide_test= Suicide_test.to_pandas_dataframe()"
      ]
    },
    {
      "cell_type": "code",
      "execution_count": 42,
      "metadata": {
        "gather": {
          "logged": 1707485538789
        },
        "jupyter": {
          "outputs_hidden": false,
          "source_hidden": false
        },
        "nteract": {
          "transient": {
            "deleting": false
          }
        }
      },
      "outputs": [
        {
          "data": {
            "image/png": "[encoded data removed]",
            "text/plain": [
              "<Figure size 640x480 with 1 Axes>"
            ]
          },
          "metadata": {},
          "output_type": "display_data"
        }
      ],
      "source": [
        "Suicide_test['prediction'] = Suicide_test['text'].map(safeguarding_prediction)\n",
        "\n",
        "Suicide_test[['class', 'prob']]=pd.DataFrame(Suicide_test['prediction'].tolist(), index=Suicide_test.index)\n",
        "\n",
        "Suicide_test['prediction'] = Suicide_test['class'].apply(lambda x: 2 if x == 'Strongly Concerning' else (1 if x == 'Possibly Concerning' else 0)) #\n",
        "\n",
        "# We extract text and label values:\n",
        "predicted = Suicide_test.prediction.values\n",
        "labels = Suicide_test.label.values\n",
        "\n",
        "cm2 = confusion_matrix(labels, predicted)\n",
        "\n",
        "sns.heatmap(cm2.T, square=True, annot=True, fmt='d', cbar=False)\n",
        "plt.xlabel('true label')\n",
        "plt.ylabel('predicted label')"
      ]
    },
    {
      "cell_type": "code",
      "execution_count": 18,
      "metadata": {},
      "outputs": [
        {
          "name": "stdout",
          "output_type": "stream",
          "text": [
            "              precision    recall  f1-score   support\n",
            "\n",
            "           0       0.95      1.00      0.98        81\n",
            "           1       0.86      0.78      0.82        95\n",
            "           2       0.80      0.85      0.82        80\n",
            "\n",
            "    accuracy                           0.87       256\n",
            "   macro avg       0.87      0.88      0.87       256\n",
            "weighted avg       0.87      0.87      0.87       256\n",
            "\n"
          ]
        }
      ],
      "source": [
        "print(metrics.classification_report(predicted, labels)) \n",
        "class_report = metrics.classification_report(predicted, labels)"
      ]
    },
    {
      "cell_type": "code",
      "execution_count": 19,
      "metadata": {
        "gather": {
          "logged": 1669126370779
        },
        "jupyter": {
          "outputs_hidden": false,
          "source_hidden": false
        },
        "nteract": {
          "transient": {
            "deleting": false
          }
        }
      },
      "outputs": [],
      "source": [
        "run.log('confusion_matrix_val', cm2)\n",
        "run.log('classification_report_val', class_report )"
      ]
    },
    {
      "cell_type": "markdown",
      "metadata": {
        "nteract": {
          "transient": {
            "deleting": false
          }
        }
      },
      "source": [
        "# Deployment"
      ]
    },
    {
      "cell_type": "markdown",
      "metadata": {},
      "source": [
        "# Set up Environment"
      ]
    },
    {
      "cell_type": "markdown",
      "metadata": {
        "nteract": {
          "transient": {
            "deleting": false
          }
        }
      },
      "source": [
        "## Serialise model "
      ]
    },
    {
      "cell_type": "code",
      "execution_count": 18,
      "metadata": {
        "gather": {
          "logged": 1669826546015
        },
        "jupyter": {
          "outputs_hidden": false,
          "source_hidden": false
        },
        "nteract": {
          "transient": {
            "deleting": false
          }
        }
      },
      "outputs": [],
      "source": [
        "#save model\n",
        "model_file = short_hand_name+\".pkl\" "
      ]
    },
    {
      "cell_type": "code",
      "execution_count": 19,
      "metadata": {
        "gather": {
          "logged": 1669826558647
        },
        "jupyter": {
          "outputs_hidden": false,
          "source_hidden": false
        },
        "nteract": {
          "transient": {
            "deleting": false
          }
        }
      },
      "outputs": [],
      "source": [
        "#save model for later inference\n",
        "torch.save(bert_model.state_dict(), model_file)"
      ]
    },
    {
      "cell_type": "code",
      "execution_count": 20,
      "metadata": {
        "gather": {
          "logged": 1669826579051
        },
        "jupyter": {
          "outputs_hidden": false,
          "source_hidden": false
        },
        "nteract": {
          "transient": {
            "deleting": false
          }
        }
      },
      "outputs": [
        {
          "data": {
            "text/plain": [
              "<azureml._restclient.models.batch_artifact_content_information_dto.BatchArtifactContentInformationDto at 0x7f433d16fe80>"
            ]
          },
          "execution_count": 20,
          "metadata": {},
          "output_type": "execute_result"
        }
      ],
      "source": [
        "run.upload_file(name = 'outputs/' + model_file, path_or_stream = './' + model_file)"
      ]
    },
    {
      "cell_type": "markdown",
      "metadata": {},
      "source": [
        "## Register Model "
      ]
    },
    {
      "cell_type": "code",
      "execution_count": 21,
      "metadata": {
        "gather": {
          "logged": 1669826674159
        }
      },
      "outputs": [
        {
          "name": "stdout",
          "output_type": "stream",
          "text": [
            "Model trained and registered.\n"
          ]
        }
      ],
      "source": [
        "# Register the model\n",
        "run.register_model(model_path='outputs/'+model_file , model_name=name,\n",
        "                   tags={'Training context':'Inline Training'} \n",
        "                   ,description=\"Safeguarding content detection model. Trained on balanced data, 3 categories, no safeguarding, safeguarding high risk, and low risk . \"\n",
        "                  )\n",
        "\n",
        "print('Model trained and registered.')"
      ]
    },
    {
      "cell_type": "code",
      "execution_count": 22,
      "metadata": {
        "gather": {
          "logged": 1669826686260
        }
      },
      "outputs": [
        {
          "name": "stdout",
          "output_type": "stream",
          "text": [
            "safeguarding_bert_bert3cat version 7\n"
          ]
        }
      ],
      "source": [
        "\n",
        "model = workspace.models[name]\n",
        "print(model.name, 'version', model.version)"
      ]
    },
    {
      "cell_type": "markdown",
      "metadata": {},
      "source": [
        "## Set Up local enivronment files"
      ]
    },
    {
      "cell_type": "code",
      "execution_count": null,
      "metadata": {
        "jupyter": {
          "outputs_hidden": false,
          "source_hidden": false
        },
        "nteract": {
          "transient": {
            "deleting": false
          }
        }
      },
      "outputs": [],
      "source": [
        "import os\n",
        "from IPython.core.magic import register_line_cell_magic"
      ]
    },
    {
      "cell_type": "code",
      "execution_count": 23,
      "metadata": {
        "gather": {
          "logged": 1669826695043
        }
      },
      "outputs": [],
      "source": [
        "# Create a folder for the deployment files\n",
        "deployment_folder = './'+name\n",
        "\n",
        "# Set path for scoring script\n",
        "script_file = 'score_'+short_hand_name +'.py'\n",
        "script_path = os.path.join(deployment_folder,script_file)"
      ]
    },
    {
      "cell_type": "code",
      "execution_count": null,
      "metadata": {
        "jupyter": {
          "outputs_hidden": false,
          "source_hidden": false
        },
        "nteract": {
          "transient": {
            "deleting": false
          }
        }
      },
      "outputs": [],
      "source": [
        "@register_line_cell_magic\n",
        "\n",
        "def writetemplate(line, cell):\n",
        "    \"\"\"\n",
        "    Writes formatted content to a file using a template provided in 'cell'.\n",
        "\n",
        "    This function opens a file specified by the 'line' argument for writing. It then writes to this file\n",
        "    using the string provided in 'cell', which is formatted using global variables available in the current\n",
        "    scope.\n",
        "\n",
        "    Args:\n",
        "        line (str): The file path where the content will be written. If the file does not exist, it will be created.\n",
        "                    If the file exists, its contents will be overwritten.\n",
        "        cell (str): A string template containing placeholders that are filled using variables from the global scope.\n",
        "                    Placeholders in the 'cell' string should be in the format {variable_name} where 'variable_name'\n",
        "                    is a global variable.\n",
        "    \"\"\"\n",
        "    with open(line, 'w') as f:\n",
        "        f.write(cell.format(**globals()))\n",
        "\n"
      ]
    },
    {
      "cell_type": "code",
      "execution_count": 25,
      "metadata": {},
      "outputs": [],
      "source": [
        "%%writetemplate $script_path \n",
        "import json\n",
        "import joblib\n",
        "import numpy as np\n",
        "import os\n",
        "import pandas as pd\n",
        "import pickle\n",
        "from transformers import BertForSequenceClassification, BertTokenizer\n",
        "import torch\n",
        "from torch.nn.functional import F\n",
        "\n",
        " \n",
        "device = torch.device('cuda' if torch.cuda.is_available() else 'cpu') \n",
        "\n",
        "# Called when the service is loaded\n",
        "def init():\n",
        "    global model\n",
        "    # Get the path to the deployed model file and load it    \n",
        "    \n",
        "    model  = BertForSequenceClassification.from_pretrained(\n",
        "        'bert-base-uncased',\n",
        "        num_labels = 3,\n",
        "        output_attentions = False,\n",
        "        output_hidden_states = False,\n",
        "    )\n",
        "    \n",
        "    model_path = os.path.join(os.getenv('AZUREML_MODEL_DIR'), '{model_file}')\n",
        "    print(model_path)\n",
        "    model.load_state_dict(torch.load( model_path, map_location=torch.device('cpu')))\n",
        "    print(model)\n",
        "    \n",
        "    global tokenizer \n",
        "    tokenizer = BertTokenizer.from_pretrained(\n",
        "        'bert-base-uncased',\n",
        "        do_lower_case = True\n",
        "    )\n",
        "\n",
        "# Called when a request is received\n",
        "def run(raw_data):\n",
        "    # Get the input data as a numpy array    \n",
        "    data = json.loads(raw_data)['data']\n",
        "\n",
        "\n",
        "    def preprocessing(input_text, tokenizer):\n",
        "        return tokenizer.encode_plus(\n",
        "                        input_text,\n",
        "                        add_special_tokens = True,\n",
        "                        max_length = 512,\n",
        "                        pad_to_max_length = True,\n",
        "                        return_attention_mask = True,\n",
        "                        return_tensors = 'pt' # Return pytorch tensors.\n",
        "                   )\n",
        "\n",
        "\n",
        "    def safeguarding_prediction(text_to_classify):\n",
        "        # We need Token IDs and Attention Mask for inference on the new sentence\n",
        "        test_ids = []\n",
        "        test_attention_mask = []\n",
        "        # Apply the tokenizer\n",
        "        encoding = preprocessing(text_to_classify, tokenizer)\n",
        "\n",
        "        # Extract IDs and Attention Mask\n",
        "        test_ids.append(encoding['input_ids'])\n",
        "        test_attention_mask.append(encoding['attention_mask'])\n",
        "        test_ids = torch.cat(test_ids, dim = 0)\n",
        "        test_attention_mask = torch.cat(test_attention_mask, dim = 0)\n",
        "\n",
        "        # Forward pass, calculate logit predictions\n",
        "        with torch.no_grad(): #not to construct the compute graph during this forward pass (since we won’t be running backprop here)\n",
        "            output = model(test_ids.to(device), token_type_ids = None, attention_mask = test_attention_mask.to(device))\n",
        "\n",
        "        prediction = 'Possibly Concerning' if np.argmax(output.logits.cpu().numpy()).flatten().item() == 1 else ('Strongly Concerning' if np.argmax(output.logits.cpu().numpy()).flatten().item() == 2 else \"No safeguarding\")\n",
        "        probs = F.softmax(output.logits.cpu(), dim=1).cpu().numpy() # Apply softmax to calculate probabilities\n",
        "        probs_max = np.max(probs) # Apply softmax to calculate probabilities\n",
        "        return prediction, str(probs_max)\n",
        "\n",
        "    # Call prediction \n",
        "    predictions = safeguarding_prediction(data)\n",
        "    \n",
        "    # Return the predictions as JSON \n",
        "    return json.dumps(dict(enumerate(predictions))) \n"
      ]
    }
  ],
  "metadata": {
    "kernel_info": {
      "name": "python38-azureml"
    },
    "kernelspec": {
      "display_name": "Python 3.8 - AzureML",
      "language": "python",
      "name": "python38-azureml"
    },
    "language_info": {
      "codemirror_mode": {
        "name": "ipython",
        "version": 3
      },
      "file_extension": ".py",
      "mimetype": "text/x-python",
      "name": "python",
      "nbconvert_exporter": "python",
      "pygments_lexer": "ipython3",
      "version": "3.8.5"
    },
    "microsoft": {
      "host": {
        "AzureML": {
          "notebookHasBeenCompleted": true
        }
      },
      "ms_spell_check": {
        "ms_spell_check_language": "en"
      }
    },
    "nteract": {
      "version": "nteract-front-end@1.0.0"
    }
  },
  "nbformat": 4,
  "nbformat_minor": 2
}
