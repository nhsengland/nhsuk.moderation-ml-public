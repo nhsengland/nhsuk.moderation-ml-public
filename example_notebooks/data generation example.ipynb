{
 "cells": [
  {
   "cell_type": "markdown",
   "metadata": {},
   "source": [
    "# Data Generation\n",
    "We've built some tools for automating the generation of comments and reviews. This particular workflow uses OpenAI. "
   ]
  },
  {
   "cell_type": "code",
   "execution_count": 5,
   "metadata": {},
   "outputs": [
    {
     "name": "stdout",
     "output_type": "stream",
     "text": [
      "The autoreload extension is already loaded. To reload it, use:\n",
      "  %reload_ext autoreload\n"
     ]
    }
   ],
   "source": [
    "%load_ext autoreload\n",
    "%autoreload 2\n",
    "\n",
    "import sys\n",
    "import os\n",
    "root_path = os.path.abspath(os.path.join(os.path.dirname(__file__), \"..\" ))\n",
    "sys.path.insert(0, root_path)"
   ]
  },
  {
   "cell_type": "code",
   "execution_count": 6,
   "metadata": {},
   "outputs": [],
   "source": [
    "from src.data_augmentation import data_augmentation"
   ]
  },
  {
   "cell_type": "code",
   "execution_count": 8,
   "metadata": {},
   "outputs": [
    {
     "name": "stdout",
     "output_type": "stream",
     "text": [
      "[\"Title: A Whirlwind of Comparison: The Ruby Slippers Reign Supreme\\n\\nReview:\\nOh, my! It's Dorothy from the Land of Oz here to share my thoughts on shoes. But let's be honest, none can hold a candle to my iconic sparkling red ruby slippers. So, let's take a whirlwind journey through some of the shoes I've come across, and I'll show you just why my pair is simply unbeatable.\\n\\nFirst up, we have the classic black pumps. While they may be sleek and versatile, they lack the enchanting allure that my ruby slippers possess. There's just something about the way the light bounces off those sparkling gems that captures the attention of all who see them. They are truly a magical accessory that adds that extra touch of fairy tale wonder.\\n\\nNext, we venture into the realm of sneakers. Sure, they're comfortable and great for long walks on the yellow brick road, but let's face it, they lack the pizzazz that my ruby slippers bring to the table. There's nothing quite as captivating as the gleaming red hues reflecting the brilliance of the sun, guiding me back home to Kansas. If only those sneakers could transport me with a simple click of my heels!\\n\\nSandals, ah yes, the perfect choice for summer adventures. While they allow for a breeze to reach your feet, they simply can't compare to the sheer glamour and elegance of my ruby slippers. With their glittering embellishments and velvety texture, they make every step I take feel like a dance, as if I were floating on air.\\n\\nNow, let's not forget about boots. Practical and sturdy, they brave the elements with ease. Yet, my ruby slippers perfectly balance function and style. Encrusted with precious gems and embellished with magical elements, they are as resilient as they are fashionable. They have seen me through some challenging quests, never failing to make a statement with their enchanting glow.\\n\\nIn conclusion, while there may be a myriad of shoes out there, nothing can quite rival the everlasting charm and allure of my sparkling red ruby slippers. They are more than just shoes; they are a symbol of resilience, magic, and the power of believing in the extraordinary. With each step, they remind me that there truly is no place like home. So, for those seeking a little touch of wonder and a sprinkle of magic, turn your eyes to the radiant glory of the ruby slippers – the true crown jewel of footwear.\"]\n"
     ]
    }
   ],
   "source": [
    "reviews = data_augmentation.generate_openai_review(\n",
    "    context=\"You are Dorothy from the wizard of Oz. You are reviewing shoes, and comparing them to your sparkling red ones.\",\n",
    "    n=1,\n",
    ")\n",
    "print(reviews)"
   ]
  },
  {
   "cell_type": "markdown",
   "metadata": {},
   "source": [
    "Now, we want to leverage this to write reviews for NHS services. To do this we need to prompt accordingly. Below is a generic template prompt which I have written, and saved as a .txt file"
   ]
  },
  {
   "cell_type": "markdown",
   "metadata": {},
   "source": [
    "> Assistant is a designed to help generate typical, realistic reviews which are similar to those which patients would leave on an NHS website. \n",
    "> Assistant is to emulate a reading age of {reading_age}. \n",
    "> The review ought to have a {sentiment} sentiment. \n",
    "> The review ought to be about a {location}. \n",
    "> The review should be sure to mention {topic}.\n",
    "> The review should be roughly {word_count} words long.\n",
    "> The review should be sure to describe an experience. \n",
    "\n",
    "\n",
    "This is saved in `data_augmentation/prompts_and_text/comment_generation_context_1.txt`\n",
    "\n",
    "Notice that we have parameterised various elements of this. This will allow us to generate more varied and specific reviews. \n",
    "\n",
    "We can use a value dictionary to generate a context prompt then"
   ]
  },
  {
   "cell_type": "code",
   "execution_count": 11,
   "metadata": {},
   "outputs": [
    {
     "name": "stdout",
     "output_type": "stream",
     "text": [
      "Assistant is a designed to help generate typical, realistic reviews which are similar to those which patients would leave on an NHS website. \n",
      "Assistant is to emulate a reading age of 13. \n",
      "The review ought to have a negative sentiment. \n",
      "The review ought to be about a GP Practice. \n",
      "The review should be sure to mention medication.\n",
      "The review should be roughly 200 words long.\n",
      "The review should be sure to describe an experience. \n"
     ]
    }
   ],
   "source": [
    "prompt_parameters = {\n",
    "    \"reading_age\": \"13\",\n",
    "    \"sentiment\": \"negative\",\n",
    "    \"location\": \"GP Practice\",\n",
    "    \"topic\": \"medication\",\n",
    "    \"word_count\": \"200\",\n",
    "}\n",
    "\n",
    "context = data_augmentation.generate_parameterised_context(\n",
    "    \"comment_generation_context_1\", prompt_parameters=prompt_parameters\n",
    ")\n",
    "print(context)"
   ]
  },
  {
   "cell_type": "markdown",
   "metadata": {},
   "source": [
    "Let's use this context to generate a few reviews"
   ]
  },
  {
   "cell_type": "code",
   "execution_count": 14,
   "metadata": {},
   "outputs": [
    {
     "name": "stdout",
     "output_type": "stream",
     "text": [
      "I recently had a pretty disappointing experience at my local GP practice and I wanted to share it with others. It was my first visit to this particular practice, and I have to say, I was not impressed. \n",
      "\n",
      "Firstly, the receptionist seemed incredibly disinterested in helping me. She barely made eye contact and could hardly be bothered to answer my questions. It made me feel unwelcome and unheard, which is not the kind of service you expect when you're visiting a doctor.\n",
      "\n",
      "Once I finally got in to see the GP, things didn't improve. The doctor seemed rushed and barely gave me a chance to explain my symptoms. Instead, they quickly glanced at my records and prescribed a medication without even bothering to ask if I had any allergies or previous bad reactions. It felt like a one-size-fits-all approach, without any consideration for my personal health history.\n",
      "\n",
      "To make matters worse, when I went to collect my prescription from the pharmacy, they had made a mistake and given me the wrong medication. It was incredibly frustrating and made me question the competency of the practice as a whole.\n",
      "\n",
      "Overall, my experience at this GP practice left me feeling unheard, rushed, and concerned about the quality of care I received. I will definitely be looking for a different practice that values their patients' well-being more than this one.\n",
      "--------------------------------------------------\n",
      "I recently visited my local GP practice and had an incredibly disappointing experience. From the moment I walked in, the atmosphere felt cold and unwelcoming. The receptionist at the front desk seemed disinterested and barely acknowledged my presence.\n",
      "\n",
      "When it was finally my turn to see the doctor, I found him to be dismissive and lacking in empathy. I had come to discuss my ongoing medication and was hoping for some guidance and reassurance. Instead, I was met with a rushed examination and a prescription for the same medication I had already been taking, without any explanation or discussion.\n",
      "\n",
      "I left the practice feeling unheard and frustrated. It was clear that the doctor didn't take the time to understand my concerns or provide any meaningful advice. I was left to navigate my own healthcare without the help and support I had hoped for from a healthcare professional.\n",
      "\n",
      "Overall, I was deeply disappointed with my visit to this GP practice. The lack of communication and empathy made me feel like just another number in their system, rather than a person seeking medical care. I would strongly advise anyone looking for a caring and attentive healthcare experience to look elsewhere.\n",
      "--------------------------------------------------\n",
      "I recently had a really disappointing experience at my local GP practice and felt compelled to share my thoughts. The entire visit left me feeling frustrated and unsatisfied. First of all, getting an appointment was a nightmare. The receptionist seemed disinterested and it took forever to book a slot. When I finally got to see the doctor, it felt rushed and impersonal. I barely had time to explain my symptoms before they were already writing me a prescription. It was clear they didn't take the time to fully understand my concerns. \n",
      "\n",
      "To make matters worse, the medication they prescribed me ended up causing terrible side effects. I experienced nausea, dizziness, and headaches for days. When I called the practice to inform them about the adverse reactions, the receptionist was dismissive and told me to wait it out. It was incredibly frustrating to feel like they didn't take my concerns seriously. \n",
      "\n",
      "Overall, my experience with this GP practice was far from positive. The lack of care and consideration for my wellbeing was disheartening. I would not recommend this practice to anyone in need of attentive and compassionate medical care. Finding a reliable and understanding doctor is crucial, and unfortunately, this practice fell short.\n",
      "--------------------------------------------------\n"
     ]
    }
   ],
   "source": [
    "reviews = data_augmentation.generate_openai_review(context=context, n=3)\n",
    "for r in reviews:\n",
    "    print(r)\n",
    "    print(\"-\" * 50)"
   ]
  },
  {
   "cell_type": "markdown",
   "metadata": {},
   "source": [
    "If we change `n` above, we can get more reviews for this given context. However, what we really want to do is to vary the context as well. \n",
    "\n",
    "In the `data_augmentation` module, we've provided some sample lists of values to populate the context dictionaries. Here's an example"
   ]
  },
  {
   "cell_type": "code",
   "execution_count": 15,
   "metadata": {},
   "outputs": [
    {
     "data": {
      "text/plain": [
       "['GP Practice', 'hospital', 'dentist', 'care centre']"
      ]
     },
     "execution_count": 15,
     "metadata": {},
     "output_type": "execute_result"
    }
   ],
   "source": [
    "data_augmentation.LOCATION_VALUE_LIST"
   ]
  },
  {
   "cell_type": "markdown",
   "metadata": {},
   "source": [
    "We can use these value lists to combinatorically generate contexts:"
   ]
  },
  {
   "cell_type": "code",
   "execution_count": 18,
   "metadata": {},
   "outputs": [
    {
     "name": "stdout",
     "output_type": "stream",
     "text": [
      "{'reading_age': 'adult', 'sentiment': 'very negative', 'location': 'dentist', 'topic': '', 'word_count': '200'}\n",
      "{'reading_age': '12', 'sentiment': 'slightly negative', 'location': 'care centre', 'topic': '', 'word_count': '50'}\n",
      "{'reading_age': '8', 'sentiment': 'very positive', 'location': 'dentist', 'topic': '', 'word_count': '200'}\n",
      "{'reading_age': 'adult', 'sentiment': 'neutral', 'location': 'care centre', 'topic': '', 'word_count': '400'}\n",
      "{'reading_age': '12', 'sentiment': 'very positive', 'location': 'dentist', 'topic': '', 'word_count': '50'}\n"
     ]
    },
    {
     "data": {
      "text/plain": [
       "[None, None, None, None, None]"
      ]
     },
     "execution_count": 18,
     "metadata": {},
     "output_type": "execute_result"
    }
   ],
   "source": [
    "import random\n",
    "\n",
    "paras = data_augmentation.generate_parameter_dictionaries_combinatorically(\n",
    "    dictionary_of_parameter_names_to_value_lists={\n",
    "        \"reading_age\": data_augmentation.READING_AGE_VALUE_LIST,\n",
    "        \"sentiment\": data_augmentation.SENTIMENT_VALUE_LIST,\n",
    "        \"location\": data_augmentation.LOCATION_VALUE_LIST,\n",
    "        \"topic\": data_augmentation.TOPIC_VALUE_LIST,\n",
    "        \"word_count\": data_augmentation.WORD_COUNT_VALUE_LIST,\n",
    "    }\n",
    ")\n",
    "\n",
    "paras_sample = random.sample(list(paras), 5)\n",
    "[print(p) for p in paras_sample]"
   ]
  },
  {
   "cell_type": "markdown",
   "metadata": {},
   "source": [
    "OK! So we've printed five of the parameter dictionaries. Next let's look at an example of how we would actually use this. "
   ]
  },
  {
   "cell_type": "markdown",
   "metadata": {},
   "source": [
    "## Generation for specific problems\n",
    "Let's say I want to generate reviews which would be used to help with the complaints model. \n",
    "\n",
    "For this I want to suggest a specific list of relevant topics. I also want to remove the positive sentiments from the sentiment list\n"
   ]
  },
  {
   "cell_type": "code",
   "execution_count": 23,
   "metadata": {},
   "outputs": [
    {
     "name": "stdout",
     "output_type": "stream",
     "text": [
      "864\n"
     ]
    }
   ],
   "source": [
    "complaints_params = data_augmentation.generate_parameter_dictionaries_combinatorically(\n",
    "    dictionary_of_parameter_names_to_value_lists={\n",
    "        \"reading_age\": data_augmentation.READING_AGE_VALUE_LIST,\n",
    "        \"sentiment\": [\"very negative\", \"slightly negative\", \"neutral\"],\n",
    "        \"location\": data_augmentation.LOCATION_VALUE_LIST,\n",
    "        \"topic\": [\n",
    "            \"a complaint\",\n",
    "            \"fraud\",\n",
    "            \"malpractice\",\n",
    "            \"harassment\",\n",
    "            \"theft\",\n",
    "            \"racism\",\n",
    "        ],\n",
    "        \"word_count\": data_augmentation.WORD_COUNT_VALUE_LIST,\n",
    "    }\n",
    ")\n",
    "complaints_params = list(complaints_params)\n",
    "print(len(complaints_params))"
   ]
  },
  {
   "cell_type": "markdown",
   "metadata": {},
   "source": [
    "OK! So now we have 864 different relevant context prompts. We can then use the `n` parameter on the actual comment generation function to get to the number of comment that we want. For the sake of this demo, let's just generate five different reviews from five different contexts. "
   ]
  },
  {
   "cell_type": "code",
   "execution_count": 24,
   "metadata": {},
   "outputs": [
    {
     "name": "stdout",
     "output_type": "stream",
     "text": [
      "I recently had a pretty disappointing experience at my local GP practice and I wanted to share it with others. It was my first visit to this particular practice, and I have to say, I was not impressed. \n",
      "\n",
      "Firstly, the receptionist seemed incredibly disinterested in helping me. She barely made eye contact and could hardly be bothered to answer my questions. It made me feel unwelcome and unheard, which is not the kind of service you expect when you're visiting a doctor.\n",
      "\n",
      "Once I finally got in to see the GP, things didn't improve. The doctor seemed rushed and barely gave me a chance to explain my symptoms. Instead, they quickly glanced at my records and prescribed a medication without even bothering to ask if I had any allergies or previous bad reactions. It felt like a one-size-fits-all approach, without any consideration for my personal health history.\n",
      "\n",
      "To make matters worse, when I went to collect my prescription from the pharmacy, they had made a mistake and given me the wrong medication. It was incredibly frustrating and made me question the competency of the practice as a whole.\n",
      "\n",
      "Overall, my experience at this GP practice left me feeling unheard, rushed, and concerned about the quality of care I received. I will definitely be looking for a different practice that values their patients' well-being more than this one.\n",
      "I recently visited my local GP practice and had an incredibly disappointing experience. From the moment I walked in, the atmosphere felt cold and unwelcoming. The receptionist at the front desk seemed disinterested and barely acknowledged my presence.\n",
      "\n",
      "When it was finally my turn to see the doctor, I found him to be dismissive and lacking in empathy. I had come to discuss my ongoing medication and was hoping for some guidance and reassurance. Instead, I was met with a rushed examination and a prescription for the same medication I had already been taking, without any explanation or discussion.\n",
      "\n",
      "I left the practice feeling unheard and frustrated. It was clear that the doctor didn't take the time to understand my concerns or provide any meaningful advice. I was left to navigate my own healthcare without the help and support I had hoped for from a healthcare professional.\n",
      "\n",
      "Overall, I was deeply disappointed with my visit to this GP practice. The lack of communication and empathy made me feel like just another number in their system, rather than a person seeking medical care. I would strongly advise anyone looking for a caring and attentive healthcare experience to look elsewhere.\n",
      "I recently had a really disappointing experience at my local GP practice and felt compelled to share my thoughts. The entire visit left me feeling frustrated and unsatisfied. First of all, getting an appointment was a nightmare. The receptionist seemed disinterested and it took forever to book a slot. When I finally got to see the doctor, it felt rushed and impersonal. I barely had time to explain my symptoms before they were already writing me a prescription. It was clear they didn't take the time to fully understand my concerns. \n",
      "\n",
      "To make matters worse, the medication they prescribed me ended up causing terrible side effects. I experienced nausea, dizziness, and headaches for days. When I called the practice to inform them about the adverse reactions, the receptionist was dismissive and told me to wait it out. It was incredibly frustrating to feel like they didn't take my concerns seriously. \n",
      "\n",
      "Overall, my experience with this GP practice was far from positive. The lack of care and consideration for my wellbeing was disheartening. I would not recommend this practice to anyone in need of attentive and compassionate medical care. Finding a reliable and understanding doctor is crucial, and unfortunately, this practice fell short.\n",
      "I recently had a really disappointing experience at St. Mary's Hospital and I feel compelled to share my thoughts. From the moment I walked through the doors, I had a bad feeling about the place. The atmosphere was cold and sterile, and the staff seemed disinterested and uncaring.\n",
      "\n",
      "My main issue with this hospital was the level of malpractice that I witnessed. During my stay, I noticed several instances where the medical staff failed to follow proper procedures and protocols. It was truly shocking and made me question the competence of the entire team.\n",
      "\n",
      "Furthermore, the communication between the staff and patients was abysmal. It was almost impossible to get any clear information about my treatment plan or the status of my condition. I constantly felt in the dark and had to constantly advocate for myself, which is not what you expect when you're already feeling vulnerable.\n",
      "\n",
      "Not only was the care subpar, but the amenities were lacking as well. The rooms were cramped and outdated, and the food was barely edible. It's clear that this hospital is more focused on cutting costs than providing a comfortable and supportive environment for patients.\n",
      "\n",
      "Overall, my experience at St. Mary's Hospital was extremely disappointing. I would urge anyone considering seeking medical care there to think twice. The level of malpractice and lack of communication is simply unacceptable.\n",
      "I recently had an experience at a local hospital that left me feeling disappointed and frustrated. From the moment I walked in, the atmosphere felt cold and impersonal. The staff seemed overwhelmed and disinterested in providing quality care.\n",
      "\n",
      "One of the major issues I encountered was with the billing department. I had to visit the hospital several times for a specific treatment, and each time, I was billed incorrectly. It felt like they were playing a game of \"guess the price\" rather than accurately representing the services provided. I had to spend hours on the phone, dealing with their unhelpful customer service representatives, just to get the billing issues resolved. It was an absolute nightmare.\n",
      "\n",
      "To make matters worse, while dealing with the billing problems, I stumbled upon some unsettling information. It came to my attention that there had been a case of fraud within the hospital. Apparently, some staff members had been involved in fraudulent activities, taking advantage of vulnerable patients. This revelation left me feeling disgusted and betrayed. How am I supposed to trust an institution that allows such behavior to occur?\n",
      "\n",
      "Overall, my experience at this hospital was far from satisfactory. The lack of professionalism, the billing issues, and the discovery of fraud have left me questioning the integrity and quality of care provided. I would strongly advise others to think twice before seeking treatment at this hospital.\n",
      "I recently visited a care centre and had the worst experience. The staff were incredibly rude and unhelpful. On top of that, there was clear racism towards certain residents. I was shocked and disgusted by the lack of compassion and respect. I would not recommend this care centre to anyone.\n",
      "I recently had a very unpleasant experience with [GP Practice Name]. I visited the practice seeking medical assistance, and I was left feeling frustrated and disappointed.\n",
      "\n",
      "Firstly, the staff at the reception were extremely unfriendly. They made no effort to greet me or make me feel welcome. Instead, they were dismissive and seemed to be more interested in talking amongst themselves. It made me feel like I was a burden rather than a patient in need of help.\n",
      "\n",
      "Furthermore, the waiting time was absolutely ridiculous. I understand that GP practices can get busy, but waiting for over an hour past my appointment time is unacceptable. I had to rearrange my entire day just to accommodate this appointment, and the delay left me feeling angry and inconvenienced.\n",
      "\n",
      "When I finally got to see the doctor, they seemed disinterested and rushed. I barely had the chance to explain my symptoms before they interrupted me and simply prescribed a generic medication without delving deeper into my concerns. It felt like they were just trying to get me in and out as quickly as possible, without actually taking the time to properly assess my situation.\n",
      "\n",
      "Overall, my experience with [GP Practice Name] was incredibly disappointing. The lack of professionalism and care displayed by the staff, combined with the excessive waiting time and rushed consultation, has left me contemplating whether this is the best place to seek medical assistance. I will be filing a complaint to ensure that others do not have to endure such a negative experience.\n",
      "I recently had a not-so-great experience at my local dentist's office and I wanted to share my thoughts. Let me start by saying that I am not usually one to write negative reviews, but this experience really left me feeling disappointed.\n",
      "\n",
      "First of all, scheduling an appointment was quite a hassle. I tried calling multiple times and was put on hold for what felt like forever. When I finally spoke to a receptionist, they seemed disinterested and unfriendly. It was as if they didn't care about my concerns or making the process easy for me.\n",
      "\n",
      "When I arrived at the dentist's office, I was greeted by a crowded waiting room. There were patients waiting well beyond their scheduled appointment times, including myself. I waited for almost an hour before being called in, which was frustrating to say the least. The reception area was cramped and uncomfortable, and there was a lack of magazines or any form of entertainment to pass the time.\n",
      "\n",
      "Once I was called in, the dental assistant who attended to me seemed rushed and didn't take the time to explain what was happening. I felt like I was just another number, being pushed through the system. The dental chair was uncomfortable and the lighting was too bright, making me feel even more anxious.\n",
      "\n",
      "The dentist finally arrived, but seemed disinterested and detached. They didn't ask me about any concerns or explain what they were doing during the exam. Instead, they just went about their business without any regard for my comfort or understanding. It was clear that they were in a hurry to move on to the next patient.\n",
      "\n",
      "The worst part of my experience was when it came to the actual treatment. I had a complaint about a previous treatment that had been done, but the dentist dismissed my concerns and quickly moved on. They didn't take the time to listen to me or address my complaint, which made me feel like my feedback didn't matter. It was a clear lack of customer service and empathy on their part.\n",
      "\n",
      "Overall, my experience at this dentist's office was disappointing. From the unhelpful receptionists to the rushed and uncaring treatment by the dentist, I felt like just another number in their system. I would not recommend this dentist to anyone looking for a caring and attentive dental experience. There is definitely room for improvement in terms of customer service and addressing patient concerns.\n"
     ]
    },
    {
     "data": {
      "text/plain": [
       "[None, None, None, None, None, None, None, None]"
      ]
     },
     "execution_count": 24,
     "metadata": {},
     "output_type": "execute_result"
    }
   ],
   "source": [
    "for param_set in random.sample(complaints_params, 5):\n",
    "    context = data_augmentation.generate_parameterised_context(\n",
    "        base_context_filename=\"comment_generation_context_1\",\n",
    "        prompt_parameters=param_set,\n",
    "    )\n",
    "    reviews += data_augmentation.generate_openai_review(context=context, n=1)\n",
    "\n",
    "[print(r) for r in reviews]"
   ]
  },
  {
   "cell_type": "markdown",
   "metadata": {},
   "source": [
    "Clearly, the context prompt provided is not sufficient at reducing the literacy level. This is a point to improve. \n",
    "\n",
    "When working on a new problem, remember that you can create a new prompt context template in the appropriate folder, with whatever parameters you wish. \n",
    "\n",
    "Also remember to register your generated data when you've created it!"
   ]
  }
 ],
 "metadata": {
  "kernelspec": {
   "display_name": "azureml_py310_sdkv2",
   "language": "python",
   "name": "python3"
  },
  "language_info": {
   "codemirror_mode": {
    "name": "ipython",
    "version": 3
   },
   "file_extension": ".py",
   "mimetype": "text/x-python",
   "name": "python",
   "nbconvert_exporter": "python",
   "pygments_lexer": "ipython3",
   "version": "3.10.10"
  },
  "orig_nbformat": 4
 },
 "nbformat": 4,
 "nbformat_minor": 2
}
