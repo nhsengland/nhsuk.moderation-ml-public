{
 "cells": [
  {
   "cell_type": "markdown",
   "metadata": {},
   "source": [
    "# Using Endpoints\n",
    "\n",
    "All of the models which we register to endpoints can be queried for results. They all need a url, a key, and they need the data to be passed in a particular format. This is taken care of by the `EndpointAccessDetails` class in `azure_config`. \n",
    "\n",
    "If you create a new endpoint, be sure to create the necessary instance of the `EndpointAccessDetails` class in `azure_config`. Here are two example instances which hold the details for two different endpoints"
   ]
  },
  {
   "cell_type": "code",
   "execution_count": null,
   "metadata": {},
   "outputs": [],
   "source": [
    "%load_ext autoreload\n",
    "%autoreload 2\n",
    "\n",
    "import sys\n",
    "import os\n",
    "root_path = os.path.abspath(os.path.join(os.path.dirname(__file__), \"..\" ))\n",
    "sys.path.insert(0, root_path)"
   ]
  },
  {
   "cell_type": "code",
   "execution_count": null,
   "metadata": {
    "gather": {
     "logged": 1692188028202
    },
    "jupyter": {
     "outputs_hidden": false,
     "source_hidden": false
    },
    "nteract": {
     "transient": {
      "deleting": false
     }
    }
   },
   "outputs": [],
   "source": [
    "pip install -r requirements.txt"
   ]
  },
  {
   "cell_type": "code",
   "execution_count": null,
   "metadata": {
    "gather": {
     "logged": 1692191331134
    }
   },
   "outputs": [],
   "source": [
    "from src.azure_config import azure_config\n",
    "\n",
    "print(azure_config.complaints4_janaks_details)\n",
    "print(azure_config.falcon_7b_instruct_details)\n",
    "print(azure_config.llama_7b_details)"
   ]
  },
  {
   "cell_type": "markdown",
   "metadata": {},
   "source": [
    "Now lets use these details to query those endpoints. The `complaints4_janaks` endpoint is there to detect complaints, so let's give it appropriate inputs"
   ]
  },
  {
   "cell_type": "code",
   "execution_count": null,
   "metadata": {
    "gather": {
     "logged": 1692188186902
    }
   },
   "outputs": [],
   "source": [
    "from src.model_getting import model_getting\n",
    "\n",
    "complaint_text_1 = \"I went to the doctor and felt harrassed. The doctor was terrible this is basically malpractice\"\n",
    "complaint_text_2 = \"The nurses are always so kind. Shame about the long wait but at least I got my appointment\"\n",
    "for text in [complaint_text_1, complaint_text_2]:\n",
    "    response = model_getting.get_endpoint_response(\n",
    "        query_content=text, access_details=azure_config.complaints4_janaks_details\n",
    "    )\n",
    "    print(response)"
   ]
  },
  {
   "cell_type": "markdown",
   "metadata": {},
   "source": [
    "The `falcon` model is just a generic question answering model, so let's give it a generic input"
   ]
  },
  {
   "cell_type": "code",
   "execution_count": null,
   "metadata": {
    "gather": {
     "logged": 1692188307569
    }
   },
   "outputs": [],
   "source": [
    "text = \"What is the capital of Mexico?\"\n",
    "response = model_getting.get_endpoint_response(\n",
    "    query_content=text, access_details=azure_config.falcon_7b_instruct_details\n",
    ")\n",
    "print(response)"
   ]
  },
  {
   "cell_type": "markdown",
   "metadata": {
    "nteract": {
     "transient": {
      "deleting": false
     }
    }
   },
   "source": [
    "Llama 2 requires a slightly more awkward input query structure, and is a generative model rather than a question answering model."
   ]
  },
  {
   "cell_type": "code",
   "execution_count": null,
   "metadata": {
    "gather": {
     "logged": 1692191671666
    },
    "jupyter": {
     "outputs_hidden": false,
     "source_hidden": false
    },
    "nteract": {
     "transient": {
      "deleting": false
     }
    }
   },
   "outputs": [],
   "source": [
    "query = {\n",
    "    \"input_string\": [\"The capital of Mexico is \"],\n",
    "    \"parameters\": {\n",
    "        \"temperature\": 0.8,\n",
    "        \"top_p\": 0.8,\n",
    "        \"max_new_tokens\": 10,\n",
    "        \"do_sample\": True,\n",
    "    },\n",
    "}"
   ]
  },
  {
   "cell_type": "code",
   "execution_count": null,
   "metadata": {
    "gather": {
     "logged": 1692191819788
    },
    "jupyter": {
     "outputs_hidden": false,
     "source_hidden": false
    },
    "nteract": {
     "transient": {
      "deleting": false
     }
    }
   },
   "outputs": [],
   "source": [
    "def get_llama_general_response(query):\n",
    "    response = model_getting.get_endpoint_response(\n",
    "        query_content=query, access_details=azure_config.llama_7b_details\n",
    "    )\n",
    "\n",
    "    return response"
   ]
  },
  {
   "cell_type": "code",
   "execution_count": null,
   "metadata": {
    "gather": {
     "logged": 1692191846675
    },
    "jupyter": {
     "outputs_hidden": false,
     "source_hidden": false
    },
    "nteract": {
     "transient": {
      "deleting": false
     }
    }
   },
   "outputs": [],
   "source": [
    "get_llama_general_response(query)"
   ]
  }
 ],
 "metadata": {
  "kernel_info": {
   "name": "python38-azureml"
  },
  "kernelspec": {
   "display_name": "Python 3.8 - AzureML",
   "language": "python",
   "name": "python38-azureml"
  },
  "language_info": {
   "codemirror_mode": {
    "name": "ipython",
    "version": 3
   },
   "file_extension": ".py",
   "mimetype": "text/x-python",
   "name": "python",
   "nbconvert_exporter": "python",
   "pygments_lexer": "ipython3",
   "version": "3.8.5"
  },
  "microsoft": {
   "host": {
    "AzureML": {
     "notebookHasBeenCompleted": true
    }
   },
   "ms_spell_check": {
    "ms_spell_check_language": "en"
   }
  },
  "nteract": {
   "version": "nteract-front-end@1.0.0"
  },
  "orig_nbformat": 4
 },
 "nbformat": 4,
 "nbformat_minor": 2
}
