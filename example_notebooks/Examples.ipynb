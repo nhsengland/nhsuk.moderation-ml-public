{
 "cells": [
  {
   "cell_type": "code",
   "execution_count": 32,
   "metadata": {},
   "outputs": [],
   "source": [
    "%load_ext autoreload\n",
    "%autoreload 2"
   ]
  },
  {
   "attachments": {},
   "cell_type": "markdown",
   "metadata": {},
   "source": [
    "# Example Notebook\n",
    "\n",
    "This notebook is to demonstrate the functionality of the tooling we build to make our ML work more straightforward and interoperable. "
   ]
  },
  {
   "attachments": {},
   "cell_type": "markdown",
   "metadata": {},
   "source": [
    "## Data Ingestion Module\n",
    "\n",
    "At time of writing, we are working exclusively with data stored in the Azure Machine learning Studio Dataset Store. \n",
    "The Data Ingestion Module is built ssuch that, if this should change, we should only need to modify ourpipelines very minimally. \n",
    "\n",
    "First of all, we can see the datasets available through the AML Studio. \n"
   ]
  },
  {
   "cell_type": "code",
   "execution_count": 33,
   "metadata": {
    "gather": {
     "logged": 1688571721292
    }
   },
   "outputs": [
    {
     "name": "stdout",
     "output_type": "stream",
     "text": [
      "comments_dec\n",
      "Comment\n",
      "active-comments\n",
      "complaints_generated_shuffle\n",
      "complaints_generated_embeddings\n",
      "complaints_generated_paraphrased\n",
      "df_complaints_to_augment_no_numpy\n",
      "published_eighty_k_1\n",
      "names_validation_dataset\n",
      "corrected_false_positives\n",
      "safeguarding_for_training_v2\n",
      "Complaints Validate DG\n",
      "Complaints Train DG\n",
      "safeguarding_for_validation_v1\n",
      "safeguarding_for_training_v1\n",
      "safeguardin_strong\n",
      "safeguarding_to_replace\n",
      "safeguarding_training_with_Lee\n",
      "safeguarding_training_without_Lee\n",
      "safeguarding_master_raw_data\n",
      "safeguarding_holdout_1\n",
      "safeguarding_new_training_data_inc_generated\n",
      "safeguarding_for_validation_v0\n",
      "safeguarding_for_training_v0\n",
      "safeguarding_generated_NLPAUG\n",
      "Safeguarding_holdout_0\n",
      "generated_safeguarding_dg\n",
      "generated_complaints_NLPAUG\n",
      "published_reviews\n",
      "complaints_complete_cleansed_v1\n",
      "complaints_data_augmented\n",
      "complaints_data_original\n",
      "train_complaints\n",
      "train_complaint\n",
      "complaints_data\n",
      "description_cleaned\n",
      "labelled_data_spacy_full_capital\n",
      "labelled_data_spacy_full\n",
      "labelled_data_bert_full\n",
      "review_rejected\n"
     ]
    }
   ],
   "source": [
    "from data_ingestion import data_ingestion\n",
    "\n",
    "data_ingestion.list_all_dataset_names_in_registry()"
   ]
  },
  {
   "cell_type": "markdown",
   "metadata": {
    "nteract": {
     "transient": {
      "deleting": false
     }
    }
   },
   "source": [
    "Now we can pick one of these and load it in. \n",
    "Notice that we select the `retriever_type` as 'AMLStore'. If, in the future, we need to change to SQLStore or Dynamics, our pipelines will be robust against such changes by simply changing this string value. "
   ]
  },
  {
   "cell_type": "code",
   "execution_count": 34,
   "metadata": {
    "gather": {
     "logged": 1688571894533
    }
   },
   "outputs": [
    {
     "data": {
      "text/html": [
       "<div>\n",
       "<style scoped>\n",
       "    .dataframe tbody tr th:only-of-type {\n",
       "        vertical-align: middle;\n",
       "    }\n",
       "\n",
       "    .dataframe tbody tr th {\n",
       "        vertical-align: top;\n",
       "    }\n",
       "\n",
       "    .dataframe thead th {\n",
       "        text-align: right;\n",
       "    }\n",
       "</style>\n",
       "<table border=\"1\" class=\"dataframe\">\n",
       "  <thead>\n",
       "    <tr style=\"text-align: right;\">\n",
       "      <th></th>\n",
       "      <th>Comment ID</th>\n",
       "      <th>Organisation ID</th>\n",
       "      <th>Comment Title</th>\n",
       "      <th>Comment Text</th>\n",
       "      <th>Complaint</th>\n",
       "      <th>Rejection Reason</th>\n",
       "      <th>Status</th>\n",
       "      <th>Org Type (Org Name) (Organisation)</th>\n",
       "      <th>Org Name</th>\n",
       "      <th>Date of Visit</th>\n",
       "      <th>...</th>\n",
       "      <th>Column40</th>\n",
       "      <th>Column41</th>\n",
       "      <th>Column42</th>\n",
       "      <th>Column43</th>\n",
       "      <th>Column44</th>\n",
       "      <th>Column45</th>\n",
       "      <th>Column46</th>\n",
       "      <th>Column47</th>\n",
       "      <th>Column48</th>\n",
       "      <th>Column49</th>\n",
       "    </tr>\n",
       "  </thead>\n",
       "  <tbody>\n",
       "    <tr>\n",
       "      <th>0</th>\n",
       "      <td>1300019</td>\n",
       "      <td>V013351</td>\n",
       "      <td>Be Honest When you have an accident in a perso...</td>\n",
       "      <td>As a person who has repeatedly been lied about...</td>\n",
       "      <td>No</td>\n",
       "      <td>Dentist complaints</td>\n",
       "      <td>Rejected</td>\n",
       "      <td>Dentist</td>\n",
       "      <td>Ringway Dental Centre</td>\n",
       "      <td>01/05/2022</td>\n",
       "      <td>...</td>\n",
       "      <td>NaT</td>\n",
       "      <td>None</td>\n",
       "      <td>None</td>\n",
       "      <td>None</td>\n",
       "      <td>None</td>\n",
       "      <td>None</td>\n",
       "      <td>None</td>\n",
       "      <td>None</td>\n",
       "      <td>None</td>\n",
       "      <td>None</td>\n",
       "    </tr>\n",
       "    <tr>\n",
       "      <th>1</th>\n",
       "      <td>1300264</td>\n",
       "      <td>G85015</td>\n",
       "      <td>Unable to process prescriptions</td>\n",
       "      <td>The practice has repeatedly failed to properly...</td>\n",
       "      <td>No</td>\n",
       "      <td>GP Complaints</td>\n",
       "      <td>Rejected</td>\n",
       "      <td>GP</td>\n",
       "      <td>The Queens Road Partnership</td>\n",
       "      <td>01/05/2022</td>\n",
       "      <td>...</td>\n",
       "      <td>NaT</td>\n",
       "      <td>None</td>\n",
       "      <td>None</td>\n",
       "      <td>None</td>\n",
       "      <td>None</td>\n",
       "      <td>None</td>\n",
       "      <td>None</td>\n",
       "      <td>None</td>\n",
       "      <td>None</td>\n",
       "      <td>None</td>\n",
       "    </tr>\n",
       "    <tr>\n",
       "      <th>2</th>\n",
       "      <td>1300306</td>\n",
       "      <td>RKEQ4</td>\n",
       "      <td>Rude and unprofessional reception at the emerg...</td>\n",
       "      <td>\"I came in with my mum who does not speak Engl...</td>\n",
       "      <td>I kindly asked if I can stay with her because...</td>\n",
       "      <td>my mum start crying and I told them that I am...</td>\n",
       "      <td>I walked my mum to waiting area and the triag...</td>\n",
       "      <td>then the reception nurse came and start shout...</td>\n",
       "      <td>None</td>\n",
       "      <td>None</td>\n",
       "      <td>...</td>\n",
       "      <td>NaT</td>\n",
       "      <td>None</td>\n",
       "      <td>None</td>\n",
       "      <td>None</td>\n",
       "      <td>None</td>\n",
       "      <td>None</td>\n",
       "      <td>None</td>\n",
       "      <td>None</td>\n",
       "      <td>None</td>\n",
       "      <td>None</td>\n",
       "    </tr>\n",
       "    <tr>\n",
       "      <th>3</th>\n",
       "      <td>\"</td>\n",
       "      <td>No</td>\n",
       "      <td>Hospital and Trust Complaints</td>\n",
       "      <td>Rejected</td>\n",
       "      <td>Hospital</td>\n",
       "      <td>The Whittington Hospital</td>\n",
       "      <td>01/05/2022</td>\n",
       "      <td>Accident and emergency services</td>\n",
       "      <td>NHS website</td>\n",
       "      <td>1</td>\n",
       "      <td>...</td>\n",
       "      <td>NaT</td>\n",
       "      <td>None</td>\n",
       "      <td>None</td>\n",
       "      <td>None</td>\n",
       "      <td>None</td>\n",
       "      <td>None</td>\n",
       "      <td>None</td>\n",
       "      <td>None</td>\n",
       "      <td>None</td>\n",
       "      <td>None</td>\n",
       "    </tr>\n",
       "    <tr>\n",
       "      <th>4</th>\n",
       "      <td>1300402</td>\n",
       "      <td>R0A02</td>\n",
       "      <td>Uncaring</td>\n",
       "      <td>Admitted by ambulance to A&amp; E due to Covid 19 ...</td>\n",
       "      <td>No</td>\n",
       "      <td>Hospital and Trust Complaints</td>\n",
       "      <td>Rejected</td>\n",
       "      <td>Hospital</td>\n",
       "      <td>Manchester Royal Infirmary</td>\n",
       "      <td>01/05/2022</td>\n",
       "      <td>...</td>\n",
       "      <td>NaT</td>\n",
       "      <td>None</td>\n",
       "      <td>None</td>\n",
       "      <td>None</td>\n",
       "      <td>None</td>\n",
       "      <td>None</td>\n",
       "      <td>None</td>\n",
       "      <td>None</td>\n",
       "      <td>None</td>\n",
       "      <td>None</td>\n",
       "    </tr>\n",
       "  </tbody>\n",
       "</table>\n",
       "<p>5 rows × 49 columns</p>\n",
       "</div>"
      ],
      "text/plain": [
       "  Comment ID Organisation ID  \\\n",
       "0    1300019         V013351   \n",
       "1    1300264          G85015   \n",
       "2    1300306           RKEQ4   \n",
       "3          \"              No   \n",
       "4    1300402           R0A02   \n",
       "\n",
       "                                       Comment Title  \\\n",
       "0  Be Honest When you have an accident in a perso...   \n",
       "1                    Unable to process prescriptions   \n",
       "2  Rude and unprofessional reception at the emerg...   \n",
       "3                      Hospital and Trust Complaints   \n",
       "4                                           Uncaring   \n",
       "\n",
       "                                        Comment Text  \\\n",
       "0  As a person who has repeatedly been lied about...   \n",
       "1  The practice has repeatedly failed to properly...   \n",
       "2  \"I came in with my mum who does not speak Engl...   \n",
       "3                                           Rejected   \n",
       "4  Admitted by ambulance to A& E due to Covid 19 ...   \n",
       "\n",
       "                                           Complaint  \\\n",
       "0                                                 No   \n",
       "1                                                 No   \n",
       "2   I kindly asked if I can stay with her because...   \n",
       "3                                           Hospital   \n",
       "4                                                 No   \n",
       "\n",
       "                                    Rejection Reason  \\\n",
       "0                                 Dentist complaints   \n",
       "1                                      GP Complaints   \n",
       "2   my mum start crying and I told them that I am...   \n",
       "3                           The Whittington Hospital   \n",
       "4                      Hospital and Trust Complaints   \n",
       "\n",
       "                                              Status  \\\n",
       "0                                           Rejected   \n",
       "1                                           Rejected   \n",
       "2   I walked my mum to waiting area and the triag...   \n",
       "3                                         01/05/2022   \n",
       "4                                           Rejected   \n",
       "\n",
       "                  Org Type (Org Name) (Organisation)  \\\n",
       "0                                            Dentist   \n",
       "1                                                 GP   \n",
       "2   then the reception nurse came and start shout...   \n",
       "3                    Accident and emergency services   \n",
       "4                                           Hospital   \n",
       "\n",
       "                      Org Name Date of Visit  ... Column40 Column41 Column42  \\\n",
       "0        Ringway Dental Centre    01/05/2022  ...      NaT     None     None   \n",
       "1  The Queens Road Partnership    01/05/2022  ...      NaT     None     None   \n",
       "2                         None          None  ...      NaT     None     None   \n",
       "3                  NHS website             1  ...      NaT     None     None   \n",
       "4   Manchester Royal Infirmary    01/05/2022  ...      NaT     None     None   \n",
       "\n",
       "  Column43 Column44 Column45 Column46 Column47 Column48 Column49  \n",
       "0     None     None     None     None     None     None     None  \n",
       "1     None     None     None     None     None     None     None  \n",
       "2     None     None     None     None     None     None     None  \n",
       "3     None     None     None     None     None     None     None  \n",
       "4     None     None     None     None     None     None     None  \n",
       "\n",
       "[5 rows x 49 columns]"
      ]
     },
     "execution_count": 34,
     "metadata": {},
     "output_type": "execute_result"
    }
   ],
   "source": [
    "dataset_name = \"comments_dec\"\n",
    "df_fetched = data_ingestion.DatasetGetter(\n",
    "    retriever_type=\"AMLStore\", dataset_name=dataset_name\n",
    ")\n",
    "df_fetched = df_fetched.dataset\n",
    "df_fetched.head()"
   ]
  },
  {
   "cell_type": "markdown",
   "metadata": {},
   "source": [
    "# Model Getting Module\n",
    "See more info in the Readme"
   ]
  },
  {
   "cell_type": "markdown",
   "metadata": {},
   "source": [
    "## Example Local Model\n",
    "\n",
    "**Fill this in**"
   ]
  },
  {
   "cell_type": "markdown",
   "metadata": {},
   "source": [
    "## Example Endpoint Model"
   ]
  },
  {
   "cell_type": "code",
   "execution_count": 35,
   "metadata": {},
   "outputs": [],
   "source": [
    "from model_getting import model_getting"
   ]
  },
  {
   "cell_type": "code",
   "execution_count": 36,
   "metadata": {},
   "outputs": [
    {
     "name": "stdout",
     "output_type": "stream",
     "text": [
      "Endpoint Retriever does not return a model\n"
     ]
    }
   ],
   "source": [
    "model_complaints4_janaks = model_getting.ModelGetter(\n",
    "    retriever_type=\"Endpoints\", model_name=\"complaints4-janaks\"\n",
    ")"
   ]
  },
  {
   "cell_type": "markdown",
   "metadata": {},
   "source": [
    "Why does it say `Endpoint Retriever does not return a model?`\n",
    "\n",
    "Other model types, (local, registry), ought to give you a model object to interact with. The endpoint type just holds the methods to query the endpoint.\n",
    "\n",
    "\n",
    "Now let's test the endpoint out."
   ]
  },
  {
   "cell_type": "code",
   "execution_count": 37,
   "metadata": {},
   "outputs": [
    {
     "name": "stdout",
     "output_type": "stream",
     "text": [
      "0\n",
      "1\n"
     ]
    }
   ],
   "source": [
    "inputs = [\n",
    "    \"The doctor was wonderful, I will definitely come back here\",\n",
    "    \"I think the nurse was racist. I should never have recieved this kind of treatment\",\n",
    "]\n",
    "\n",
    "for input in inputs:\n",
    "    pred = model_complaints4_janaks.retriever.get_prediction(input_text=input)\n",
    "    print(pred)"
   ]
  },
  {
   "cell_type": "markdown",
   "metadata": {},
   "source": [
    "It seemed to get the right answer for each of these. Now lets use it for a dataset. "
   ]
  },
  {
   "cell_type": "code",
   "execution_count": 39,
   "metadata": {},
   "outputs": [
    {
     "data": {
      "text/html": [
       "<div>\n",
       "<style scoped>\n",
       "    .dataframe tbody tr th:only-of-type {\n",
       "        vertical-align: middle;\n",
       "    }\n",
       "\n",
       "    .dataframe tbody tr th {\n",
       "        vertical-align: top;\n",
       "    }\n",
       "\n",
       "    .dataframe thead th {\n",
       "        text-align: right;\n",
       "    }\n",
       "</style>\n",
       "<table border=\"1\" class=\"dataframe\">\n",
       "  <thead>\n",
       "    <tr style=\"text-align: right;\">\n",
       "      <th></th>\n",
       "      <th>Comment_Title</th>\n",
       "      <th>Comment_Text</th>\n",
       "      <th>Is_Complaint</th>\n",
       "    </tr>\n",
       "  </thead>\n",
       "  <tbody>\n",
       "    <tr>\n",
       "      <th>169</th>\n",
       "      <td>Just to say thank you</td>\n",
       "      <td>Myself and my family have had various health i...</td>\n",
       "      <td>0</td>\n",
       "    </tr>\n",
       "    <tr>\n",
       "      <th>101</th>\n",
       "      <td>Kingston Crescent Surgery</td>\n",
       "      <td>The admin staff and all medical staff have alw...</td>\n",
       "      <td>0</td>\n",
       "    </tr>\n",
       "    <tr>\n",
       "      <th>704</th>\n",
       "      <td>Excellent Practice</td>\n",
       "      <td>Everyone is friendly &amp; welcoming. Always made ...</td>\n",
       "      <td>0</td>\n",
       "    </tr>\n",
       "    <tr>\n",
       "      <th>245</th>\n",
       "      <td>Don't go.</td>\n",
       "      <td>Horrible reception, very rude and just not wil...</td>\n",
       "      <td>1</td>\n",
       "    </tr>\n",
       "    <tr>\n",
       "      <th>459</th>\n",
       "      <td>Untrustworthy and very poor customer service</td>\n",
       "      <td>I was mislead into signing a legal agreement b...</td>\n",
       "      <td>1</td>\n",
       "    </tr>\n",
       "  </tbody>\n",
       "</table>\n",
       "</div>"
      ],
      "text/plain": [
       "                                    Comment_Title  \\\n",
       "169                         Just to say thank you   \n",
       "101                     Kingston Crescent Surgery   \n",
       "704                            Excellent Practice   \n",
       "245                                     Don't go.   \n",
       "459  Untrustworthy and very poor customer service   \n",
       "\n",
       "                                          Comment_Text  Is_Complaint  \n",
       "169  Myself and my family have had various health i...             0  \n",
       "101  The admin staff and all medical staff have alw...             0  \n",
       "704  Everyone is friendly & welcoming. Always made ...             0  \n",
       "245  Horrible reception, very rude and just not wil...             1  \n",
       "459  I was mislead into signing a legal agreement b...             1  "
      ]
     },
     "execution_count": 39,
     "metadata": {},
     "output_type": "execute_result"
    }
   ],
   "source": [
    "df_complaints_train_dg = data_ingestion.DatasetGetter(\n",
    "    retriever_type=\"AMLStore\", dataset_name=\"Complaints Train DG\"\n",
    ")\n",
    "df_complaints_train_dg = df_complaints_train_dg.dataset\n",
    "df_complaints_train_dg = df_complaints_train_dg.sample(n=100)\n",
    "df_complaints_train_dg.head()"
   ]
  },
  {
   "cell_type": "code",
   "execution_count": 41,
   "metadata": {},
   "outputs": [],
   "source": [
    "df_complaints_train_dg[\"predictions\"] = df_complaints_train_dg.apply(\n",
    "    lambda row: model_complaints4_janaks.retriever.get_prediction(\n",
    "        input_text=row[\"Comment_Text\"]\n",
    "    ),\n",
    "    axis=1,\n",
    ")"
   ]
  },
  {
   "cell_type": "markdown",
   "metadata": {},
   "source": [
    "# Evaluation Module"
   ]
  },
  {
   "cell_type": "code",
   "execution_count": 54,
   "metadata": {},
   "outputs": [
    {
     "data": {
      "image/png": "[encoded data removed]",
      "text/plain": [
       "<Figure size 640x480 with 2 Axes>"
      ]
     },
     "metadata": {},
     "output_type": "display_data"
    }
   ],
   "source": [
    "from model_assessment import model_assessment\n",
    "\n",
    "df_complaints_train_dg[\"predictions\"] = df_complaints_train_dg[\"predictions\"].astype(\n",
    "    int\n",
    ")\n",
    "\n",
    "assessor = model_assessment.ModelAssessor(\n",
    "    results_getter=None,\n",
    "    test_data=df_complaints_train_dg,  # .dropna(subset=['predictions']),\n",
    "    X_column_name=\"Comment_Text\",\n",
    "    y_column_name=\"Is_Complaint\",\n",
    "    predictions_column_name=\"predictions\",\n",
    ")\n",
    "assessor.get_and_display_confusion_matrix()"
   ]
  }
 ],
 "metadata": {
  "kernel_info": {
   "name": "python38-azureml"
  },
  "kernelspec": {
   "display_name": "Python 3.8 - AzureML",
   "language": "python",
   "name": "python38-azureml"
  },
  "language_info": {
   "codemirror_mode": {
    "name": "ipython",
    "version": 3
   },
   "file_extension": ".py",
   "mimetype": "text/x-python",
   "name": "python",
   "nbconvert_exporter": "python",
   "pygments_lexer": "ipython3",
   "version": "3.8.5"
  },
  "microsoft": {
   "ms_spell_check": {
    "ms_spell_check_language": "en"
   }
  },
  "nteract": {
   "version": "nteract-front-end@1.0.0"
  },
  "orig_nbformat": 4
 },
 "nbformat": 4,
 "nbformat_minor": 2
}
