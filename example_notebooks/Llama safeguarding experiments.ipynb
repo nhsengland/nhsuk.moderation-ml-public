{
    "cells": [
        {
            "cell_type": "markdown",
            "metadata": {},
            "source": [
                "# Querying Llama endpoints"
            ]
        },
        {
            "cell_type": "code",
            "execution_count": null,
            "metadata": {},
            "outputs": [],
            "source": [
                "%load_ext autoreload\n",
                "%autoreload 2\n",
                "\n",
                "import sys\n",
                "import os\n",
                "root_path = os.path.abspath(os.path.join(os.path.dirname(__file__), \"..\" ))\n",
                "sys.path.insert(0, root_path)"
            ]
        },
        {
            "cell_type": "code",
            "execution_count": null,
            "metadata": {
                "gather": {
                    "logged": 1694007346104
                },
                "jupyter": {
                    "outputs_hidden": false,
                    "source_hidden": false
                },
                "nteract": {
                    "transient": {
                        "deleting": false
                    }
                }
            },
            "outputs": [],
            "source": [
                "from src.azure_config import azure_config"
            ]
        },
        {
            "cell_type": "code",
            "execution_count": null,
            "metadata": {
                "gather": {
                    "logged": 1694007350628
                },
                "jupyter": {
                    "outputs_hidden": false,
                    "source_hidden": false
                },
                "nteract": {
                    "transient": {
                        "deleting": false
                    }
                }
            },
            "outputs": [],
            "source": [
                "from src.data_ingestion import data_ingestion\n",
                "\n",
                "pos_dataset_name = \"safeguarding_184_Nov22_DanFinola\"\n",
                "neg_dataset_name = \"published_3k_dg_devset\""
            ]
        },
        {
            "cell_type": "markdown",
            "metadata": {
                "nteract": {
                    "transient": {
                        "deleting": false
                    }
                }
            },
            "source": [
                "## LLama general safeguarding"
            ]
        },
        {
            "cell_type": "code",
            "execution_count": null,
            "metadata": {
                "gather": {
                    "logged": 1692724736616
                },
                "jupyter": {
                    "outputs_hidden": false,
                    "source_hidden": false
                },
                "nteract": {
                    "transient": {
                        "deleting": false
                    }
                }
            },
            "outputs": [],
            "source": [
                "# run = azure_config.start_run(expeiment_name=\"llama_example_run\")"
            ]
        },
        {
            "cell_type": "code",
            "execution_count": null,
            "metadata": {
                "gather": {
                    "logged": 1694007371012
                },
                "jupyter": {
                    "outputs_hidden": false,
                    "source_hidden": false
                },
                "nteract": {
                    "transient": {
                        "deleting": false
                    }
                }
            },
            "outputs": [],
            "source": [
                "from src.question_answering_approach import question_answering\n",
                "\n",
                "safeguarding_general_llama = question_answering.LlamaClassifier(\n",
                "    pre_prompt_name=\"Llama-general-safeguarding\", classifier_type=\"general\"\n",
                ")\n",
                "print(safeguarding_general_llama.pre_prompt)\n",
                "print(safeguarding_general_llama.temperature)\n",
                "print(safeguarding_general_llama.top_p)"
            ]
        },
        {
            "cell_type": "code",
            "execution_count": null,
            "metadata": {
                "gather": {
                    "logged": 1694007514813
                },
                "jupyter": {
                    "outputs_hidden": false,
                    "source_hidden": false
                },
                "nteract": {
                    "transient": {
                        "deleting": false
                    }
                }
            },
            "outputs": [],
            "source": [
                "safeguarding_general_llama.classify_datasets(\n",
                "    positive_label_dataset_name_list=[pos_dataset_name],\n",
                "    negative_label_dataset_name_list=[neg_dataset_name],\n",
                "    y_column_name=\"label_multi\",\n",
                "    name_of_column_to_classify=\"Comment Text\",\n",
                "    train_test_val_label=\"all\",\n",
                "    balance_data=True,\n",
                ")"
            ]
        },
        {
            "cell_type": "code",
            "execution_count": null,
            "metadata": {
                "gather": {
                    "logged": 1693844405927
                },
                "jupyter": {
                    "outputs_hidden": false,
                    "source_hidden": false
                },
                "nteract": {
                    "transient": {
                        "deleting": false
                    }
                }
            },
            "outputs": [],
            "source": [
                "safeguarding_general_llama.get_assessor()\n",
                "safeguarding_general_llama.assessor.get_and_display_confusion_matrix()"
            ]
        },
        {
            "cell_type": "code",
            "execution_count": null,
            "metadata": {
                "gather": {
                    "logged": 1693844005954
                },
                "jupyter": {
                    "outputs_hidden": false,
                    "source_hidden": false
                },
                "nteract": {
                    "transient": {
                        "deleting": false
                    }
                }
            },
            "outputs": [],
            "source": [
                "safeguarding_general_llama.classify_single_review(\n",
                "    \"I have a plan to kill myself\", multi_or_bin=\"multi\"\n",
                ")"
            ]
        },
        {
            "cell_type": "code",
            "execution_count": null,
            "metadata": {
                "gather": {
                    "logged": 1692724748525
                },
                "jupyter": {
                    "outputs_hidden": false,
                    "source_hidden": false
                },
                "nteract": {
                    "transient": {
                        "deleting": false
                    }
                }
            },
            "outputs": [],
            "source": [
                "safeguarding_general_llama.log_all_attributes(run=run)\n",
                "safeguarding_general_llama.assessor.log_all_multiclass_metrics(run=run)\n",
                "safeguarding_general_llama.assessor.get_and_log_confusion_matrix(run=run)\n",
                "run.complete()"
            ]
        },
        {
            "cell_type": "markdown",
            "metadata": {
                "nteract": {
                    "transient": {
                        "deleting": false
                    }
                }
            },
            "source": [
                "## Llama QA safeguarding"
            ]
        },
        {
            "cell_type": "code",
            "execution_count": null,
            "metadata": {
                "jupyter": {
                    "outputs_hidden": false,
                    "source_hidden": false
                },
                "nteract": {
                    "transient": {
                        "deleting": false
                    }
                }
            },
            "outputs": [],
            "source": [
                "# run = azure_config.start_run(expeiment_name=\"llama_example_run\")"
            ]
        },
        {
            "cell_type": "code",
            "execution_count": null,
            "metadata": {
                "gather": {
                    "logged": 1693997244751
                },
                "jupyter": {
                    "outputs_hidden": false,
                    "source_hidden": false
                },
                "nteract": {
                    "transient": {
                        "deleting": false
                    }
                }
            },
            "outputs": [],
            "source": [
                "from src.question_answering_approach import question_answering\n",
                "\n",
                "safeguarding_QA_llama = question_answering.LlamaClassifier(\n",
                "    pre_prompt_name=\"Llama-QA-safeguarding\", classifier_type=\"chat\"\n",
                ")\n",
                "print(safeguarding_QA_llama.pre_prompt)"
            ]
        },
        {
            "cell_type": "code",
            "execution_count": null,
            "metadata": {
                "gather": {
                    "logged": 1693997263413
                },
                "jupyter": {
                    "outputs_hidden": false,
                    "source_hidden": false
                },
                "nteract": {
                    "transient": {
                        "deleting": false
                    }
                }
            },
            "outputs": [],
            "source": [
                "ans = safeguarding_QA_llama.classify_single_review(\n",
                "    review=\"I've got a plan to take pills tonight\"\n",
                ")"
            ]
        },
        {
            "cell_type": "code",
            "execution_count": null,
            "metadata": {
                "gather": {
                    "logged": 1693997760203
                },
                "jupyter": {
                    "outputs_hidden": false,
                    "source_hidden": false
                },
                "nteract": {
                    "transient": {
                        "deleting": false
                    }
                }
            },
            "outputs": [],
            "source": [
                "safeguarding_QA_llama.classify_datasets(\n",
                "    positive_label_dataset_name_list=[pos_dataset_name],\n",
                "    negative_label_dataset_name_list=[neg_dataset_name],\n",
                "    y_column_name=\"label_multi\",\n",
                "    name_of_column_to_classify=\"Comment Text\",\n",
                "    train_test_val_label=\"all\",\n",
                "    balance_data=True,\n",
                ")"
            ]
        },
        {
            "cell_type": "code",
            "execution_count": null,
            "metadata": {
                "gather": {
                    "logged": 1693871147397
                },
                "jupyter": {
                    "outputs_hidden": false,
                    "source_hidden": false
                },
                "nteract": {
                    "transient": {
                        "deleting": false
                    }
                }
            },
            "outputs": [],
            "source": [
                "safeguarding_QA_llama.get_assessor()\n",
                "safeguarding_QA_llama.assessor.get_and_display_confusion_matrix()"
            ]
        },
        {
            "cell_type": "code",
            "execution_count": null,
            "metadata": {
                "jupyter": {
                    "outputs_hidden": false,
                    "source_hidden": false
                },
                "nteract": {
                    "transient": {
                        "deleting": false
                    }
                }
            },
            "outputs": [],
            "source": [
                "safeguarding_QA_llama.log_all_attributes(run=run)\n",
                "safeguarding_QA_llama.assessor.log_all_multiclass_metrics(run=run)\n",
                "safeguarding_QA_llama.assessor.get_and_log_confusion_matrix(run=run)\n",
                "run.complete()"
            ]
        }
    ],
    "metadata": {
        "kernel_info": {
            "name": "python3"
        },
        "kernelspec": {
            "display_name": "Python 3 (ipykernel)",
            "language": "python",
            "name": "python3"
        },
        "language_info": {
            "codemirror_mode": {
                "name": "ipython",
                "version": 3
            },
            "file_extension": ".py",
            "mimetype": "text/x-python",
            "name": "python",
            "nbconvert_exporter": "python",
            "pygments_lexer": "ipython3",
            "version": "3.8.5"
        },
        "microsoft": {
            "host": {
                "AzureML": {
                    "notebookHasBeenCompleted": true
                }
            },
            "ms_spell_check": {
                "ms_spell_check_language": "en"
            }
        },
        "nteract": {
            "version": "nteract-front-end@1.0.0"
        },
        "orig_nbformat": 4
    },
    "nbformat": 4,
    "nbformat_minor": 2
}
