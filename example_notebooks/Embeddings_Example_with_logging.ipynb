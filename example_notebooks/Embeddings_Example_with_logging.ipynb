{
  "cells": [
    {
      "cell_type": "markdown",
      "metadata": {},
      "source": [
        "# Embeddings Approach\n",
        "\n",
        "The embeddings approach is something which we've folded into its own module. The module is very strongly based around the `EmbeddingsApproach` class. "
      ]
    },
    {
      "cell_type": "code",
      "execution_count": 1,
      "metadata": {},
      "outputs": [],
      "source": [
        "%load_ext autoreload\n",
        "%autoreload 2\n",
        "\n",
        "import sys\n",
        "import os\n",
        "root_path = os.path.abspath(os.path.join(os.path.dirname(__file__), \"..\" ))\n",
        "sys.path.insert(0, root_path)"
      ]
    },
    {
      "cell_type": "code",
      "execution_count": 10,
      "metadata": {
        "gather": {
          "logged": 1692802223690
        }
      },
      "outputs": [],
      "source": [
        "from src.embeddings_approach import embeddings_approach\n",
        "from src.azure_config import azure_config\n",
        "from src.data_ingestion import data_ingestion\n",
        "from src.model_assessment import model_assessment"
      ]
    },
    {
      "cell_type": "markdown",
      "metadata": {},
      "source": [
        "First we need to make sure that our data is in the form we need. We have a couple of functions which will do this for us - the first of these will add `train, test, val` columns to each row. The second will add a column label for the feature we're trying to classify. \n",
        "Each of thes functions will re-register the dataset once these columns have been added. For that reason, I've commented these cells out, because there's no need to run them again. "
      ]
    },
    {
      "cell_type": "code",
      "execution_count": 7,
      "metadata": {},
      "outputs": [],
      "source": [
        "# data_ingestion.add_train_test_val_labels_to_df('published_80k_DanFinola')\n",
        "# data_ingestion.add_train_test_val_labels_to_df('complaint-2521-DanFinola')"
      ]
    },
    {
      "cell_type": "markdown",
      "metadata": {},
      "source": [
        "## Logging\n",
        "We'll want to log our results as well. In the cell below, we'll call the relevant function from the `azure config` module to do this. \n",
        "\n",
        "**Importantly**, _runs_ are part of an _experiment_. If we want to compare multiple different models for a single given problem - like, we want to try different classifiers for the Complaints problem for example; we should make sure to register all of these under the same _experiment name_. \n",
        "\n",
        "Remember to execute `run.complete()` at the end of your script / notebook."
      ]
    },
    {
      "cell_type": "code",
      "execution_count": 9,
      "metadata": {
        "gather": {
          "logged": 1692802220925
        }
      },
      "outputs": [],
      "source": [
        "run = azure_config.start_run(expeiment_name=\"embeddings_example_run\")"
      ]
    },
    {
      "cell_type": "markdown",
      "metadata": {},
      "source": [
        "Now we're ready to do our hyperoptimisation. First of all we want to create our `embeddings_approach` object. Most of the arguments here are self explanatory. But it's worth emphasising a couple of things:\n",
        "- The 'augmented_dataset_name_list' can be as long or short as you please. The optimiser will sample from all the datasets named in that list, and find the optimal amount to include. \n",
        "- The classifier class and be changed out, no need to stick with SVM. \n",
        "- The `name_of_column_to_embed` is the thing which we're trying to classify. This will almost always be the comment text, but could also be the title text, or these two concatenated etc. \n",
        "- The `positive_label_dataset_name_list` is a list of dataset names which hold the thing you're trying to build a classifier for. For example, this could be a list of dataset names of complaints data, or safeguarding data. \n",
        "  I've made this into a list because it's not unusual for us to get given new sets of data. This gives a simple way to incorporate when that happens\n",
        "- The `negative_label_dataset_name_list` is a similar dataset name list, but in which the label is `0`. This will usually be the 80k published dataset. "
      ]
    },
    {
      "cell_type": "code",
      "execution_count": 4,
      "metadata": {
        "gather": {
          "logged": 1692799717839
        }
      },
      "outputs": [
        {
          "name": "stdout",
          "output_type": "stream",
          "text": [
            "Embeddings already exist for complaints_generated_shuffle_v2\n",
            "Embeddings made and registered for complaints_generated_shuffle_v2\n",
            "Embeddings already exist for complaint-2521-DanFinola\n",
            "Embeddings made and registered for complaint-2521-DanFinola\n",
            "Embeddings already exist for published_3k_DG_devset\n",
            "Embeddings made and registered for published_3k_DG_devset\n"
          ]
        }
      ],
      "source": [
        "import sklearn\n",
        "from sklearn.linear_model import SGDClassifier\n",
        "from sklearn.preprocessing import StandardScaler\n",
        "from sklearn.pipeline import make_pipeline\n",
        "\n",
        "emb_1 = embeddings_approach.EmbeddingsApproach(\n",
        "    classifier_class=sklearn.linear_model.SGDClassifier,\n",
        "    augmented_dataset_name_list=[\n",
        "        \"complaints_generated_shuffle_v2\",\n",
        "        # \"complaints_generated_embeddings_v2\",\n",
        "        # \"complaints_generated_paraphrased_v2\",\n",
        "    ],\n",
        "    # default_classifier_arguments=embeddings_approach.svm_space_arguments_default,\n",
        "    default_classifier_arguments=embeddings_approach.sgd_classifier_space_arguments_default,\n",
        "    model_for_embeddings_name=\"all-MiniLM-L6-v2\",\n",
        "    name_of_column_to_embed=\"Comment Text\",\n",
        "    name_of_y_column=\"Is Complaint\",\n",
        "    positive_label_dataset_name_list=[\"complaint-2521-DanFinola\"],\n",
        "    # negative_label_dataset_name_list=['published_80k_DanFinola']\n",
        "    negative_label_dataset_name_list=[\"published_3k_DG_devset\"],\n",
        "    max_evals=5,\n",
        ")"
      ]
    },
    {
      "cell_type": "markdown",
      "metadata": {},
      "source": [
        "Running the above cell, you might notice two things. The first is the warning:\n",
        "`Failed to extract subscription information, Exception=AttributeError; 'Logger' object has no attribute 'activity_info'`\n",
        "This is a warning which I haven't found a simple way to suppress. It's not an error and doesn't indicate a problem. \n",
        "\n",
        "The next thing is the print statement\n",
        "`Embeddings already exist for complaints_generated_shuffle_v2`\n",
        "\n",
        "Because we've chosen to re-register our datasets once we have "
      ]
    },
    {
      "cell_type": "code",
      "execution_count": 5,
      "metadata": {
        "gather": {
          "logged": 1692799730594
        }
      },
      "outputs": [
        {
          "name": "stdout",
          "output_type": "stream",
          "text": [
            "Creating Optimised Classifier\n",
            "100%|██████████| 5/5 [00:04<00:00,  1.12trial/s, best loss: -0.9060856498873028]\n",
            "Winning values were:{'N_complaints_generated_shuffle_v2': 341, 'N_published_3k_DG_devset': 2330, 'alpha': 0.0001837123864401266, 'eta0': 0.0194451923441517, 'learning_rate': 3, 'loss': 3, 'penalty': 3}\n",
            "assessor gotten\n"
          ]
        },
        {
          "name": "stderr",
          "output_type": "stream",
          "text": [
            "/anaconda/envs/jupyter_env/lib/python3.8/site-packages/sklearn/linear_model/_stochastic_gradient.py:713: ConvergenceWarning: Maximum number of iteration reached before convergence. Consider increasing max_iter to improve the fit.\n",
            "  warnings.warn(\n",
            "\n"
          ]
        },
        {
          "data": {
            "image/png": "[encoded data removed]",
            "text/plain": [
              "<Figure size 640x480 with 2 Axes>"
            ]
          },
          "metadata": {},
          "output_type": "display_data"
        }
      ],
      "source": [
        "emb_1.find_optimised_classifier()\n",
        "emb_1.make_and_fit_optimal_classifier()\n",
        "emb_1.perform_analysis_on_optimised_model()"
      ]
    },
    {
      "cell_type": "markdown",
      "metadata": {},
      "source": [
        "## Logging (again)\n",
        "Now that we've created our optimal model and gotten results about it, we want to log those. Below we use three different methods to do this. These are kept seperate intentionally. \n",
        "- The first adds the model itself to the registry. It does this under a generated name, and adds all of the relevant parameters to the description field of that registered object. \n",
        "- The next one adds all of the parameters used to create the model to the run log. This means that when we're comparing different runs in the experiment we ought to be able to see which choices led to which results without too much hassle. \n",
        "- The last one adds all the assessment metrics to the log too. "
      ]
    },
    {
      "cell_type": "code",
      "execution_count": 11,
      "metadata": {
        "gather": {
          "logged": 1692802236325
        }
      },
      "outputs": [
        {
          "name": "stderr",
          "output_type": "stream",
          "text": [
            "Found the config file in: /config.json\n"
          ]
        },
        {
          "name": "stdout",
          "output_type": "stream",
          "text": [
            "Model registered under the name pure-crane\n",
            "All attributes logged\n"
          ]
        },
        {
          "data": {
            "image/png": "[encoded data removed]",
            "text/plain": [
              "<Figure size 640x480 with 2 Axes>"
            ]
          },
          "metadata": {},
          "output_type": "display_data"
        }
      ],
      "source": [
        "emb_1.register_optimal_model()\n",
        "emb_1.log_all_attributes(run=run)\n",
        "emb_1.assessor.log_all_metrics(run=run)\n",
        "run.complete()"
      ]
    },
    {
      "cell_type": "markdown",
      "metadata": {},
      "source": [
        "If there are any metrics missing from the assessor class which you'd like to see registered, just add them to the class as methods!"
      ]
    }
  ],
  "metadata": {
    "kernel_info": {
      "name": "python3"
    },
    "kernelspec": {
      "display_name": "Python 3 (ipykernel)",
      "language": "python",
      "name": "python3"
    },
    "language_info": {
      "codemirror_mode": {
        "name": "ipython",
        "version": 3
      },
      "file_extension": ".py",
      "mimetype": "text/x-python",
      "name": "python",
      "nbconvert_exporter": "python",
      "pygments_lexer": "ipython3",
      "version": "3.8.13"
    },
    "microsoft": {
      "host": {
        "AzureML": {
          "notebookHasBeenCompleted": true
        }
      },
      "ms_spell_check": {
        "ms_spell_check_language": "en"
      }
    },
    "nteract": {
      "version": "nteract-front-end@1.0.0"
    },
    "orig_nbformat": 4
  },
  "nbformat": 4,
  "nbformat_minor": 2
}
